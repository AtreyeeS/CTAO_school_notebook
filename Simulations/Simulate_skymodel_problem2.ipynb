{
 "cells": [
  {
   "cell_type": "markdown",
   "id": "88e65f38-949d-49ea-846f-a9b38b92b0c2",
   "metadata": {},
   "source": [
    "# Open problems: solution to exercise 2"
   ]
  },
  {
   "cell_type": "code",
   "execution_count": 1,
   "id": "4a83cfaa-678c-4995-9fe3-665fc591cb59",
   "metadata": {},
   "outputs": [],
   "source": [
    "import matplotlib.pyplot as plt\n",
    "\n",
    "from pathlib import Path\n",
    "import time\n",
    "import numpy as np\n",
    "import threading\n",
    "import astropy.units as u\n",
    "from astropy.coordinates import Angle, SkyCoord\n",
    "from astropy.io import fits\n",
    "from astropy.time import Time\n",
    "from regions import CircleSkyRegion, PointSkyRegion\n",
    "from gammapy.data import Observation, observatory_locations, FixedPointingInfo, PointingMode\n",
    "from gammapy.datasets import MapDataset, MapDatasetEventSampler\n",
    "from gammapy.irf import load_irf_dict_from_file\n",
    "from gammapy.makers import MapDatasetMaker\n",
    "from gammapy.maps import MapAxis, RegionNDMap, WcsGeom, Map\n",
    "from gammapy.modeling import Fit\n",
    "from gammapy.modeling.models import (\n",
    "    ConstantSpectralModel,\n",
    "    FoVBackgroundModel,\n",
    "    LightCurveTemplateTemporalModel,\n",
    "    GaussianSpatialModel,\n",
    "    GaussianTemporalModel,\n",
    "    ConstantTemporalModel,\n",
    "    ExpDecayTemporalModel,\n",
    "    PointSpatialModel,\n",
    "    PowerLawSpectralModel,\n",
    "    SkyModel,\n",
    "    Models\n",
    ")"
   ]
  },
  {
   "cell_type": "markdown",
   "id": "204739d5-c82d-4a69-818a-6159bee4bd77",
   "metadata": {},
   "source": [
    "Let's simulate the source at 1 kpc with a powerlaw spectral shape with $\\Gamma=2$ and amplitude of $10^{-12}$ cm$^{-2}$ s$^{-1}$ TeV$^{-1}$. \n",
    "\n",
    "The integrated flux is: \n",
    "$F_{1~\\text{kpc}} = \\int_{0.01~\\text{TeV}}^{10~\\text{TeV}} N_{1~\\text{kpc}} \\cdot (\\cfrac{E}{E_0})^{-\\Gamma} dE$\n",
    "\n",
    "from which we can estimate the luminosity, which is unvariant for the distance:\n",
    "\n",
    "$L_{\\gamma} = F_{1~\\text{kpc}} \\cdot 4 \\cdot \\pi \\cdot D_{1~\\text{kpc}}^2$\n",
    "\n",
    "$L_{\\gamma} = F \\cdot 4 \\cdot \\pi \\cdot D^2$\n",
    "\n",
    "\n",
    "Therefore, the powerlaw amplitude $N_D$ scales with the distance as:\n",
    "\n",
    "$N_D = N_{1~\\text{kpc}} \\cdot (\\cfrac{1~\\text{kpc}}{D})^2$"
   ]
  },
  {
   "cell_type": "code",
   "execution_count": 2,
   "id": "0a7f2d0a-26ec-4a92-b599-ca979de1dc3f",
   "metadata": {},
   "outputs": [
    {
     "data": {
      "text/latex": [
       "$[1 \\times 10^{-12},~2.5 \\times 10^{-13},~1.1111111 \\times 10^{-13},~6.25 \\times 10^{-14},~4 \\times 10^{-14},~2.0408163 \\times 10^{-14},~1 \\times 10^{-14},~4.4444444 \\times 10^{-15},~2.5 \\times 10^{-15}] \\; \\mathrm{\\frac{1}{TeV\\,s\\,cm^{2}}}$"
      ],
      "text/plain": [
       "<Quantity [1.00000000e-12, 2.50000000e-13, 1.11111111e-13, 6.25000000e-14,\n",
       "           4.00000000e-14, 2.04081633e-14, 1.00000000e-14, 4.44444444e-15,\n",
       "           2.50000000e-15] 1 / (TeV s cm2)>"
      ]
     },
     "execution_count": 2,
     "metadata": {},
     "output_type": "execute_result"
    }
   ],
   "source": [
    "# let's determine the powerlaw amplitude for the different distances:\n",
    "\n",
    "distances = [1, 2, 3, 4, 5, 7, 10, 15, 20] * u.kpc\n",
    "amplitudes = 1e-12 * u.cm**-2 * u.s**-1 * u.TeV**-1 * (1 * u.kpc / distances)**2\n",
    "amplitudes"
   ]
  },
  {
   "cell_type": "code",
   "execution_count": 3,
   "id": "2851845d-e311-41c6-9385-4d4b108b305e",
   "metadata": {},
   "outputs": [],
   "source": [
    "# create the observation and the dataset\n",
    "\n",
    "energy_axis = MapAxis.from_energy_bounds(\"0.012589254 TeV\", \"199.52623 TeV\",\n",
    "                                         nbin=10, per_decade=True)\n",
    "energy_axis_true = MapAxis.from_energy_bounds(\"0.001 TeV\", \"250 TeV\", \n",
    "                                         nbin=10, per_decade=True, \n",
    "                                         name=\"energy_true\")\n",
    "migra_axis = MapAxis.from_bounds(0.5, 2, nbin=150, node_type=\"edges\", name=\"migra\")"
   ]
  },
  {
   "cell_type": "code",
   "execution_count": 4,
   "id": "ed48b916-5b98-494a-b88a-9f2605325355",
   "metadata": {},
   "outputs": [],
   "source": [
    "# let's fix the source coordinates and the pointing direction:\n",
    "\n",
    "target = SkyCoord(\"335 deg\", \"33 deg\", unit=\"deg\", frame=\"icrs\")\n",
    "\n",
    "pointing = target.directional_offset_by(position_angle = 0 * u.deg, separation = 0.5 * u.deg)"
   ]
  },
  {
   "cell_type": "code",
   "execution_count": 5,
   "id": "175c8571-47ed-4b70-b312-220f9c0c1b5a",
   "metadata": {},
   "outputs": [],
   "source": [
    "# let's load the IRF:\n",
    "\n",
    "path = \"/Users/fabiopintore/LAVORO/CTA/1st_CTAO_SCHOOL/Notebooks/caldb/CTA-Performance-prod5-v0.1-South-20deg/Prod5-South-20deg-AverageAz-14MSTs37SSTs.180000s-v0.1.fits.gz\"\n",
    "irf = load_irf_dict_from_file(path)"
   ]
  },
  {
   "cell_type": "code",
   "execution_count": 6,
   "id": "712337dd-956d-4bad-9eb4-eb0e8924d0b4",
   "metadata": {},
   "outputs": [],
   "source": [
    "# let's the define the geometry:\n",
    "\n",
    "geom = WcsGeom.create(\n",
    "            skydir=pointing,\n",
    "            width=(2.5, 2.5), #deg\n",
    "            binsz=0.02, #deg\n",
    "            frame=\"icrs\",\n",
    "            axes=[energy_axis],\n",
    "            )\n",
    "\n",
    "empty = MapDataset.create(\n",
    "            geom,\n",
    "            energy_axis_true=energy_axis_true,\n",
    "            migra_axis=migra_axis,\n",
    "            name=\"my-dataset\",\n",
    "            )"
   ]
  },
  {
   "cell_type": "code",
   "execution_count": 7,
   "id": "c401964a-9374-4f90-962f-19071ccf251d",
   "metadata": {},
   "outputs": [
    {
     "name": "stdout",
     "output_type": "stream",
     "text": [
      "Simulation for exposure: 10.0 h\n"
     ]
    },
    {
     "name": "stderr",
     "output_type": "stream",
     "text": [
      "/Users/fabiopintore/opt/anaconda3/envs/gammapy-1.2/lib/python3.10/site-packages/gammapy/data/observations.py:281: GammapyDeprecationWarning: Pointing will be required to be provided as FixedPointingInfo\n",
      "  warnings.warn(\n"
     ]
    }
   ],
   "source": [
    "# let's create the observation object:\n",
    "\n",
    "time_ref = Time(\"2024-06-25T00:00:00\", format=\"isot\", scale=\"utc\")\n",
    "\n",
    "livetime = 10 * u.hr\n",
    "\n",
    "print(f\"Simulation for exposure: {livetime}\")\n",
    "observation = Observation.create(\n",
    "                obs_id=\"0001\",\n",
    "                pointing=pointing,\n",
    "                livetime=livetime,\n",
    "                irfs=irf,\n",
    "                reference_time=time_ref,\n",
    "                )\n",
    "maker = MapDatasetMaker(selection=[\"exposure\", \"background\", \"psf\", \"edisp\"])\n",
    "dataset = maker.run(empty, observation)"
   ]
  },
  {
   "cell_type": "code",
   "execution_count": 8,
   "id": "75701e55-cb78-48db-a8c8-69c093165555",
   "metadata": {},
   "outputs": [],
   "source": [
    "# let's create the source spatial model \n",
    "spatial_model = model = GaussianSpatialModel(\n",
    "                            lon_0=\"335 deg\",\n",
    "                            lat_0=\"33 deg\",\n",
    "                            sigma=\"0.3 deg\",\n",
    "                            frame=\"icrs\",\n",
    "                            )\n",
    "\n",
    "bkg = FoVBackgroundModel(dataset_name=\"my-dataset\")"
   ]
  },
  {
   "cell_type": "code",
   "execution_count": 9,
   "id": "4632a9aa-cf24-42d5-bb09-968dfa0e49b5",
   "metadata": {},
   "outputs": [
    {
     "name": "stdout",
     "output_type": "stream",
     "text": [
      "Calculation for a distance of 1.0 kpc\n"
     ]
    },
    {
     "name": "stderr",
     "output_type": "stream",
     "text": [
      "/Users/fabiopintore/opt/anaconda3/envs/gammapy-1.2/lib/python3.10/site-packages/gammapy/utils/random/inverse_cdf.py:32: RuntimeWarning: invalid value encountered in divide\n",
      "  self.cdf /= self.cdf[:, [-1]]\n",
      "The meta information will be empty here.\n"
     ]
    },
    {
     "name": "stdout",
     "output_type": "stream",
     "text": [
      "OptimizeResult\n",
      "\n",
      "\tbackend    : minuit\n",
      "\tmethod     : migrad\n",
      "\tsuccess    : True\n",
      "\tmessage    : Optimization terminated successfully.\n",
      "\tnfev       : 104\n",
      "\ttotal stat : -543720.48\n",
      "\n",
      "CovarianceResult\n",
      "\n",
      "\tbackend    : minuit\n",
      "\tmethod     : hesse\n",
      "\tsuccess    : True\n",
      "\tmessage    : Hesse terminated successfully.\n",
      "\n",
      "Calculation for a distance of 2.0 kpc\n"
     ]
    },
    {
     "name": "stderr",
     "output_type": "stream",
     "text": [
      "The meta information will be empty here.\n"
     ]
    },
    {
     "name": "stdout",
     "output_type": "stream",
     "text": [
      "OptimizeResult\n",
      "\n",
      "\tbackend    : minuit\n",
      "\tmethod     : migrad\n",
      "\tsuccess    : True\n",
      "\tmessage    : Optimization terminated successfully.\n",
      "\tnfev       : 99\n",
      "\ttotal stat : -545806.44\n",
      "\n",
      "CovarianceResult\n",
      "\n",
      "\tbackend    : minuit\n",
      "\tmethod     : hesse\n",
      "\tsuccess    : True\n",
      "\tmessage    : Hesse terminated successfully.\n",
      "\n",
      "Calculation for a distance of 3.0 kpc\n"
     ]
    },
    {
     "name": "stderr",
     "output_type": "stream",
     "text": [
      "The meta information will be empty here.\n"
     ]
    },
    {
     "name": "stdout",
     "output_type": "stream",
     "text": [
      "OptimizeResult\n",
      "\n",
      "\tbackend    : minuit\n",
      "\tmethod     : migrad\n",
      "\tsuccess    : True\n",
      "\tmessage    : Optimization terminated successfully.\n",
      "\tnfev       : 141\n",
      "\ttotal stat : -546519.74\n",
      "\n",
      "CovarianceResult\n",
      "\n",
      "\tbackend    : minuit\n",
      "\tmethod     : hesse\n",
      "\tsuccess    : True\n",
      "\tmessage    : Hesse terminated successfully.\n",
      "\n",
      "Calculation for a distance of 4.0 kpc\n"
     ]
    },
    {
     "name": "stderr",
     "output_type": "stream",
     "text": [
      "The meta information will be empty here.\n"
     ]
    },
    {
     "name": "stdout",
     "output_type": "stream",
     "text": [
      "OptimizeResult\n",
      "\n",
      "\tbackend    : minuit\n",
      "\tmethod     : migrad\n",
      "\tsuccess    : True\n",
      "\tmessage    : Optimization terminated successfully.\n",
      "\tnfev       : 98\n",
      "\ttotal stat : -545316.82\n",
      "\n",
      "CovarianceResult\n",
      "\n",
      "\tbackend    : minuit\n",
      "\tmethod     : hesse\n",
      "\tsuccess    : True\n",
      "\tmessage    : Hesse terminated successfully.\n",
      "\n",
      "Calculation for a distance of 5.0 kpc\n"
     ]
    },
    {
     "name": "stderr",
     "output_type": "stream",
     "text": [
      "The meta information will be empty here.\n"
     ]
    },
    {
     "name": "stdout",
     "output_type": "stream",
     "text": [
      "OptimizeResult\n",
      "\n",
      "\tbackend    : minuit\n",
      "\tmethod     : migrad\n",
      "\tsuccess    : True\n",
      "\tmessage    : Optimization terminated successfully.\n",
      "\tnfev       : 175\n",
      "\ttotal stat : -541809.55\n",
      "\n",
      "CovarianceResult\n",
      "\n",
      "\tbackend    : minuit\n",
      "\tmethod     : hesse\n",
      "\tsuccess    : True\n",
      "\tmessage    : Hesse terminated successfully.\n",
      "\n",
      "Calculation for a distance of 7.0 kpc\n"
     ]
    },
    {
     "name": "stderr",
     "output_type": "stream",
     "text": [
      "The meta information will be empty here.\n"
     ]
    },
    {
     "name": "stdout",
     "output_type": "stream",
     "text": [
      "OptimizeResult\n",
      "\n",
      "\tbackend    : minuit\n",
      "\tmethod     : migrad\n",
      "\tsuccess    : False\n",
      "\tmessage    : Optimization failed. Estimated distance to minimum too large.\n",
      "\tnfev       : 175\n",
      "\ttotal stat : -542332.84\n",
      "\n",
      "CovarianceResult\n",
      "\n",
      "\tbackend    : minuit\n",
      "\tmethod     : hesse\n",
      "\tsuccess    : True\n",
      "\tmessage    : Hesse terminated successfully.\n",
      "\n",
      "Calculation for a distance of 10.0 kpc\n"
     ]
    },
    {
     "name": "stderr",
     "output_type": "stream",
     "text": [
      "The meta information will be empty here.\n"
     ]
    },
    {
     "name": "stdout",
     "output_type": "stream",
     "text": [
      "OptimizeResult\n",
      "\n",
      "\tbackend    : minuit\n",
      "\tmethod     : migrad\n",
      "\tsuccess    : False\n",
      "\tmessage    : Optimization failed. Estimated distance to minimum too large.\n",
      "\tnfev       : 190\n",
      "\ttotal stat : -545060.29\n",
      "\n",
      "CovarianceResult\n",
      "\n",
      "\tbackend    : minuit\n",
      "\tmethod     : hesse\n",
      "\tsuccess    : True\n",
      "\tmessage    : Hesse terminated successfully.\n",
      "\n",
      "Calculation for a distance of 15.0 kpc\n"
     ]
    },
    {
     "name": "stderr",
     "output_type": "stream",
     "text": [
      "The meta information will be empty here.\n"
     ]
    },
    {
     "name": "stdout",
     "output_type": "stream",
     "text": [
      "OptimizeResult\n",
      "\n",
      "\tbackend    : minuit\n",
      "\tmethod     : migrad\n",
      "\tsuccess    : False\n",
      "\tmessage    : Optimization failed. Estimated distance to minimum too large.\n",
      "\tnfev       : 370\n",
      "\ttotal stat : -544144.81\n",
      "\n",
      "CovarianceResult\n",
      "\n",
      "\tbackend    : minuit\n",
      "\tmethod     : hesse\n",
      "\tsuccess    : True\n",
      "\tmessage    : Hesse terminated successfully.\n",
      "\n",
      "Calculation for a distance of 20.0 kpc\n"
     ]
    },
    {
     "name": "stderr",
     "output_type": "stream",
     "text": [
      "The meta information will be empty here.\n",
      "/Users/fabiopintore/opt/anaconda3/envs/gammapy-1.2/lib/python3.10/site-packages/astropy/units/quantity.py:666: RuntimeWarning: overflow encountered in power\n",
      "  result = super().__array_ufunc__(function, method, *arrays, **kwargs)\n",
      "/Users/fabiopintore/opt/anaconda3/envs/gammapy-1.2/lib/python3.10/site-packages/astropy/units/quantity.py:666: RuntimeWarning: invalid value encountered in subtract\n",
      "  result = super().__array_ufunc__(function, method, *arrays, **kwargs)\n",
      "/Users/fabiopintore/opt/anaconda3/envs/gammapy-1.2/lib/python3.10/site-packages/astropy/units/quantity.py:666: RuntimeWarning: overflow encountered in power\n",
      "  result = super().__array_ufunc__(function, method, *arrays, **kwargs)\n",
      "/Users/fabiopintore/opt/anaconda3/envs/gammapy-1.2/lib/python3.10/site-packages/astropy/units/quantity.py:666: RuntimeWarning: invalid value encountered in subtract\n",
      "  result = super().__array_ufunc__(function, method, *arrays, **kwargs)\n"
     ]
    },
    {
     "name": "stdout",
     "output_type": "stream",
     "text": [
      "OptimizeResult\n",
      "\n",
      "\tbackend    : minuit\n",
      "\tmethod     : migrad\n",
      "\tsuccess    : False\n",
      "\tmessage    : Optimization failed. Estimated distance to minimum too large.\n",
      "\tnfev       : 277\n",
      "\ttotal stat : -543991.77\n",
      "\n",
      "CovarianceResult\n",
      "\n",
      "\tbackend    : minuit\n",
      "\tmethod     : hesse\n",
      "\tsuccess    : True\n",
      "\tmessage    : Hesse terminated successfully.\n",
      "\n"
     ]
    }
   ],
   "source": [
    "# Let's loop over the different distances, i.e. different amplitudes.\n",
    "# For each, we fit the simulated events and estimate the sigma and its uncertainty.\n",
    "\n",
    "sigmas, errors = [], []\n",
    "for N, dist in zip(amplitudes, distances):\n",
    "    print(f\"Calculation for a distance of {dist}\")\n",
    "    spectral_model = PowerLawSpectralModel(index=2, amplitude=N, reference=\"1 TeV\")\n",
    "    \n",
    "    source_model = SkyModel(spectral_model = spectral_model,\n",
    "                           spatial_model = spatial_model,\n",
    "                           name = \"fake_src\")\n",
    "    \n",
    "    full_model = Models([source_model, bkg])\n",
    "    \n",
    "    dataset.models = full_model\n",
    "\n",
    "    sampler = MapDatasetEventSampler(random_state=0)\n",
    "    events = sampler.run(dataset, observation)\n",
    "\n",
    "    counts = Map.from_geom(geom)\n",
    "    counts.fill_events(events)\n",
    "    dataset.counts = counts\n",
    "\n",
    "    dataset.models.parameters[\"lon_0\"].frozen = True\n",
    "    dataset.models.parameters[\"lat_0\"].frozen = True\n",
    "\n",
    "    fit = Fit()\n",
    "    result = fit.run(dataset)\n",
    "    sigmas.append(result.models[0].spatial_model.sigma.value)\n",
    "    errors.append(result.models[0].spatial_model.sigma.error)\n",
    "    print(result)"
   ]
  },
  {
   "cell_type": "markdown",
   "id": "82745d93-dd68-46f7-acb1-c8e1865bce92",
   "metadata": {},
   "source": [
    "Let's plot our results as a function of the distance:"
   ]
  },
  {
   "cell_type": "code",
   "execution_count": 10,
   "id": "d1b77ee6-a28b-4beb-8d03-c2702194e3b3",
   "metadata": {},
   "outputs": [
    {
     "data": {
      "text/plain": [
       "Text(0.5, 1.0, 'Constrain on the source extension')"
      ]
     },
     "execution_count": 10,
     "metadata": {},
     "output_type": "execute_result"
    },
    {
     "data": {
      "image/png": "[encoded data removed]",
      "text/plain": [
       "<Figure size 640x480 with 1 Axes>"
      ]
     },
     "metadata": {},
     "output_type": "display_data"
    }
   ],
   "source": [
    "plt.plot(distances, np.array(errors) / np.array(sigmas), \"o\")\n",
    "#plt.loglog()\n",
    "plt.xlabel(\"Distance (kpc)\")\n",
    "plt.ylabel(\"Rel. uncertainty (%)\")\n",
    "plt.title(\"Constrain on the source extension\")"
   ]
  },
  {
   "cell_type": "code",
   "execution_count": null,
   "id": "433f0085-0ce2-42f1-9c79-83dc2f7dac49",
   "metadata": {},
   "outputs": [],
   "source": []
  }
 ],
 "metadata": {
  "kernelspec": {
   "display_name": "Python 3 (ipykernel)",
   "language": "python",
   "name": "python3"
  },
  "language_info": {
   "codemirror_mode": {
    "name": "ipython",
    "version": 3
   },
   "file_extension": ".py",
   "mimetype": "text/x-python",
   "name": "python",
   "nbconvert_exporter": "python",
   "pygments_lexer": "ipython3",
   "version": "3.10.13"
  }
 },
 "nbformat": 4,
 "nbformat_minor": 5
}
