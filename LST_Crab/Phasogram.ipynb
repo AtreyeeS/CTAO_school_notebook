{
 "cells": [
  {
   "cell_type": "markdown",
   "id": "34a4b5a8-7e46-4b41-827c-cfab7cffda81",
   "metadata": {},
   "source": [
    "# Create a phasogram"
   ]
  },
  {
   "cell_type": "code",
   "execution_count": 2,
   "id": "a23abd0b-e7d7-41c9-9aa3-3b9af761719b",
   "metadata": {},
   "outputs": [],
   "source": [
    "# Remove warnings\n",
    "import warnings\n",
    "import numpy as np\n",
    "import astropy.units as u\n",
    "from astropy.coordinates import SkyCoord\n",
    "import matplotlib.pyplot as plt\n",
    "\n",
    "# %matplotlib inline\n",
    "from IPython.display import display\n",
    "from gammapy.data import DataStore\n",
    "from gammapy.datasets import Datasets, FluxPointsDataset, MapDataset, SpectrumDataset\n",
    "from gammapy.estimators import ExcessMapEstimator, FluxPointsEstimator\n",
    "from gammapy.makers import (\n",
    "    MapDatasetMaker,\n",
    "    PhaseBackgroundMaker,\n",
    "    SafeMaskMaker,\n",
    "    SpectrumDatasetMaker,\n",
    ")\n",
    "from gammapy.maps import MapAxis, RegionGeom, WcsGeom\n",
    "from gammapy.modeling import Fit\n",
    "from gammapy.modeling.models import PowerLawSpectralModel, SkyModel\n",
    "from gammapy.stats import WStatCountsStatistic\n",
    "from gammapy.utils.regions import SphericalCircleSkyRegion\n",
    "\n",
    "warnings.filterwarnings(\"ignore\")"
   ]
  },
  {
   "cell_type": "code",
   "execution_count": 34,
   "id": "fc91e0ba-597a-4fa9-a701-bf2431ab5254",
   "metadata": {},
   "outputs": [],
   "source": [
    "datastore = DataStore.from_dir(\"DL3_lstchain_v0.10.9/\",\n",
    "                               hdu_table_filename=\"hdu-index-pulsar.fits.gz\")\n",
    "observations = datastore.get_observations(required_irf=\"point-like\")"
   ]
  },
  {
   "cell_type": "code",
   "execution_count": 35,
   "id": "8dae16f8-c426-4e16-b440-5d8207e5af48",
   "metadata": {},
   "outputs": [],
   "source": [
    "target_position = SkyCoord(ra=83.63, dec=22.01, unit=\"deg\", frame=\"icrs\")\n",
    "on_region = SphericalCircleSkyRegion(target_position, 0.2*u.deg)"
   ]
  },
  {
   "cell_type": "code",
   "execution_count": 108,
   "id": "a848d57d-fde0-4981-acfb-1d0415d17329",
   "metadata": {},
   "outputs": [],
   "source": [
    "# Apply angular selection\n",
    "events = []\n",
    "phases\n",
    "for obs in observations:\n",
    "    evc = obs.events.select_rad_max(obs.rad_max, position=target_position)\n",
    "    events.append(evc)"
   ]
  },
  {
   "cell_type": "code",
   "execution_count": 109,
   "id": "31debfdf-57df-456f-8aee-fcee231fcf3b",
   "metadata": {},
   "outputs": [],
   "source": [
    "\n",
    "phases = []\n",
    "for ev in events:\n",
    "    phases.extend(ev.table[\"PHASE\"].data)\n",
    "\n",
    "phases=np.array(phases)"
   ]
  },
  {
   "cell_type": "code",
   "execution_count": 116,
   "id": "1c698e30-472c-4ed6-9fa6-65213d070b95",
   "metadata": {},
   "outputs": [
    {
     "data": {
      "image/png": "[encoded data removed]",
      "text/plain": [
       "<Figure size 640x480 with 1 Axes>"
      ]
     },
     "metadata": {},
     "output_type": "display_data"
    }
   ],
   "source": [
    "nbins = 50\n",
    "phase_min, phase_max = (0, 1)\n",
    "values, bin_edges = np.histogram(phases, range=(phase_min, phase_max), bins=nbins)\n",
    "bin_width = (phase_max - phase_min) / nbins\n",
    "\n",
    "bin_center = (bin_edges[:-1] + bin_edges[1:]) / 2\n",
    "\n",
    "# Poissonian uncertainty on each bin\n",
    "values_err = np.sqrt(values)\n",
    "\n",
    "fig, ax = plt.subplots()\n",
    "ax.bar(\n",
    "    x=bin_center,\n",
    "    height=values,\n",
    "    width=bin_width,\n",
    "    color=\"orangered\",\n",
    "    alpha=0.7,\n",
    "    edgecolor=\"black\",\n",
    "    yerr=values_err,\n",
    ")\n",
    "ax.set_xlim(0, 1)\n",
    "ax.set_ylim(bottom=0.95*np.max(values), top=1.02*np.max(values))\n",
    "ax.set_xlabel(\"Phase\")\n",
    "ax.set_ylabel(\"Counts\")\n",
    "ax.set_title(f\"Phasogram with radmax\")\n",
    "plt.show()\n",
    "\n",
    "\n",
    "\n"
   ]
  },
  {
   "cell_type": "code",
   "execution_count": 117,
   "id": "f87e9964-fcdf-4b5a-969f-2577ebc80bd9",
   "metadata": {},
   "outputs": [
    {
     "name": "stdout",
     "output_type": "stream",
     "text": [
      "Number of Off events: 76662\n"
     ]
    }
   ],
   "source": [
    "on_phase_range = (0.35, 0.45)\n",
    "off_phase_range = (0.6, 0.9)\n",
    "\n",
    "# Evaluate background level\n",
    "mask_off = (off_phase_range[0] < phases) & (phases < off_phase_range[1])\n",
    "\n",
    "count_bkg = mask_off.sum()\n",
    "print(f\"Number of Off events: {count_bkg}\")\n",
    "\n",
    "# bkg level normalized by the size of the OFF zone (0.3)\n",
    "bkg = count_bkg / nbins / (off_phase_range[1] - off_phase_range[0])\n",
    "\n",
    "# error on the background estimation\n",
    "bkg_err = np.sqrt(count_bkg) / nbins / (off_phase_range[1] - off_phase_range[0])"
   ]
  },
  {
   "cell_type": "code",
   "execution_count": 118,
   "id": "fa8669df-cc00-4e3c-8df1-b75038ad1684",
   "metadata": {},
   "outputs": [],
   "source": [
    "# Calculate the ratio between the on-phase and the off-phase\n",
    "alpha = (on_phase_range[1] - on_phase_range[0]) / (\n",
    "    off_phase_range[1] - off_phase_range[0]\n",
    ")\n",
    "\n",
    "\n",
    "# Select events in phase space\n",
    "on_events = phases[phases>on_phase_range[0]]\n",
    "on_events = on_events[on_events<on_phase_range[1]]\n",
    "\n",
    "off_events = phases[phases>off_phase_range[0]]\n",
    "off_events = off_events[off_events<off_phase_range[1]]"
   ]
  },
  {
   "cell_type": "code",
   "execution_count": 119,
   "id": "19e5a121-072e-48b7-8719-4ff5f8b05f22",
   "metadata": {},
   "outputs": [
    {
     "name": "stdout",
     "output_type": "stream",
     "text": [
      "Number of excess counts: 41.99999999999636\n",
      "TS: 0.05173729220405221\n",
      "Significance: 0.22745833069828902\n"
     ]
    }
   ],
   "source": [
    "\n",
    "# Apply the WStat (Li&Ma statistic)\n",
    "pulse_stat = WStatCountsStatistic(\n",
    "    len(on_events), len(off_events), alpha=alpha\n",
    ")\n",
    "\n",
    "print(f\"Number of excess counts: {pulse_stat.n_sig}\")\n",
    "print(f\"TS: {pulse_stat.ts}\")\n",
    "print(f\"Significance: {pulse_stat.sqrt_ts}\")"
   ]
  },
  {
   "cell_type": "code",
   "execution_count": null,
   "id": "41f12dbe-0297-4bd6-b4ff-98a212ed58a9",
   "metadata": {},
   "outputs": [],
   "source": []
  }
 ],
 "metadata": {
  "kernelspec": {
   "display_name": "Python 3 (ipykernel)",
   "language": "python",
   "name": "python3"
  },
  "language_info": {
   "codemirror_mode": {
    "name": "ipython",
    "version": 3
   },
   "file_extension": ".py",
   "mimetype": "text/x-python",
   "name": "python",
   "nbconvert_exporter": "python",
   "pygments_lexer": "ipython3",
   "version": "3.10.13"
  }
 },
 "nbformat": 4,
 "nbformat_minor": 5
}
