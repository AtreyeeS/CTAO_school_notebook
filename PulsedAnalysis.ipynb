{
 "cells": [
  {
   "cell_type": "markdown",
   "id": "71c2de45-9975-442b-8947-3b4c7235f480",
   "metadata": {},
   "source": [
    "# Can we see pulsations with this data?\n",
    "Add phase column"
   ]
  },
  {
   "cell_type": "code",
   "execution_count": 11,
   "id": "ca8ab96d-6be8-47ad-b299-7460bc57ed63",
   "metadata": {},
   "outputs": [],
   "source": [
    "import astropy.units as u\n",
    "from astropy.time import Time\n",
    "from astropy.coordinates import SkyCoord\n",
    "import numpy as np\n",
    "from pathlib import Path\n",
    "from gammapy.data import DataStore, EventList, Observation"
   ]
  },
  {
   "cell_type": "code",
   "execution_count": 12,
   "id": "946b299a-9301-4e3b-99f4-ab759f480c98",
   "metadata": {},
   "outputs": [
    {
     "data": {
      "text/plain": [
       "'0.9.8'"
      ]
     },
     "execution_count": 12,
     "metadata": {},
     "output_type": "execute_result"
    }
   ],
   "source": [
    "import pint\n",
    "pint.__version__"
   ]
  },
  {
   "cell_type": "code",
   "execution_count": 13,
   "id": "569cbf59-ed79-4610-9446-a67b53fbd02b",
   "metadata": {},
   "outputs": [],
   "source": [
    "import pint.models as pmodels\n",
    "from pint import toa"
   ]
  },
  {
   "cell_type": "code",
   "execution_count": 14,
   "id": "73bbf480-3e68-4703-bb6b-7c175f7df15d",
   "metadata": {},
   "outputs": [],
   "source": [
    "datastore = DataStore.from_dir(\"DL3_lstchain_v0.10.9/\")\n",
    "observations = datastore.get_observations(required_irf=\"point-like\")"
   ]
  },
  {
   "cell_type": "code",
   "execution_count": 15,
   "id": "9c06d665-87ec-4995-b5f2-2971a40cec8e",
   "metadata": {},
   "outputs": [],
   "source": [
    "target_pos = SkyCoord(\n",
    "    ra=083.63311, dec=+22.014487, unit=\"deg\", frame=\"icrs\"\n",
    ")"
   ]
  },
  {
   "cell_type": "markdown",
   "id": "23ab0438-e044-4284-bf36-fb17cba17e26",
   "metadata": {},
   "source": [
    "## Check the emphemeris \n",
    "\n",
    "Download from https://www.slac.stanford.edu/~kerrm/fermi_pulsar_timing/"
   ]
  },
  {
   "cell_type": "code",
   "execution_count": 38,
   "id": "739e973d-4178-4da4-b42f-99596a538e4d",
   "metadata": {},
   "outputs": [],
   "source": [
    "ephemeris_file = \"J0534+2200_54683_56587_chol.par.txt\""
   ]
  },
  {
   "cell_type": "code",
   "execution_count": 39,
   "id": "3d0ecd72-696c-4fea-9038-376dcf1c860d",
   "metadata": {},
   "outputs": [
    {
     "name": "stderr",
     "output_type": "stream",
     "text": [
      "\u001b[32m2024-05-13 15:26:40.351\u001b[0m | \u001b[1mINFO    \u001b[0m | \u001b[36mpint.models.absolute_phase\u001b[0m:\u001b[36mvalidate\u001b[0m:\u001b[36m74\u001b[0m - \u001b[1mTZRFRQ was 0.0 or None. Setting to infinite frequency.\u001b[0m\n",
      "UserWarning: Unrecognized parfile line 'EPHVER 5'\n",
      "\u001b[32m2024-05-13 15:26:40.352\u001b[0m | \u001b[33m\u001b[1mWARNING \u001b[0m | \u001b[36mpint.models.model_builder\u001b[0m:\u001b[36m__call__\u001b[0m:\u001b[36m202\u001b[0m - \u001b[33m\u001b[1mUNITS is not specified. Assuming TDB...\u001b[0m\n"
     ]
    }
   ],
   "source": [
    "model = pmodels.get_model(ephemeris_file)\n"
   ]
  },
  {
   "cell_type": "code",
   "execution_count": 40,
   "id": "f7734b80-4f5b-42d1-8a6c-f3e1ed957f31",
   "metadata": {},
   "outputs": [
    {
     "name": "stdout",
     "output_type": "stream",
     "text": [
      "AstrometryEquatorial(\n",
      "    MJDParameter(   POSEPOCH            50739.0000000000000000 (d) frozen=True),\n",
      "    floatParameter( PX                  0.0               (mas) frozen=True),\n",
      "    AngleParameter( RAJ                 5:34:31.94000000  (hourangle) frozen=True),\n",
      "    AngleParameter( DECJ                22:00:52.10000000 (deg) frozen=True),\n",
      "    floatParameter( PMRA                -11.8             (mas / yr) +/- 1.0 mas / yr frozen=True),\n",
      "    floatParameter( PMDEC               4.4               (mas / yr) +/- 1.0 mas / yr frozen=True))\n",
      "SolarSystemShapiro(\n",
      "    boolParameter(  PLANET_SHAPIRO      N                 frozen=True))\n",
      "DispersionDM(\n",
      "    floatParameter( DM                  56.78557939758982 (pc / cm3) frozen=True),\n",
      "    floatParameter( DM1                 0.03127916834977064 (pc / (yr cm3)) frozen=True),\n",
      "    MJDParameter(   DMEPOCH             55107.8071585532816240 (d) frozen=True))\n",
      "AbsPhase(\n",
      "    MJDParameter(   TZRMJD              55638.1552775999516551 (d) frozen=True),\n",
      "    strParameter(   TZRSITE             coe               frozen=True),\n",
      "    floatParameter( TZRFRQ              inf               (MHz) frozen=True))\n",
      "Spindown(\n",
      "    floatParameter( F0                  29.716913767510206 (Hz) +/- 7.440760185772888e-08 Hz frozen=True),\n",
      "    MJDParameter(   PEPOCH              55555.0000000000000000 (d) frozen=True),\n",
      "    floatParameter( F1                  -3.710574425779108e-10 (Hz / s) +/- 7.182646367277094e-16 Hz / s frozen=True),\n",
      "    floatParameter( F2                  1.1633675551229038e-20 (Hz / s2) +/- 2.487306981530037e-23 Hz / s2 frozen=True),\n",
      "    floatParameter( F3                  -8.672476974782729e-31 (Hz / s3) +/- 0.0 Hz / s3 frozen=True))\n"
     ]
    }
   ],
   "source": [
    "print(model.components[\"AstrometryEquatorial\"])\n",
    "print(model.components[\"SolarSystemShapiro\"])\n",
    "print(model.components[\"DispersionDM\"])\n",
    "print(model.components[\"AbsPhase\"])\n",
    "print(model.components[\"Spindown\"])"
   ]
  },
  {
   "cell_type": "code",
   "execution_count": 102,
   "id": "4a2c0630-d5df-4d97-83f6-54d376857295",
   "metadata": {},
   "outputs": [
    {
     "name": "stdout",
     "output_type": "stream",
     "text": [
      "Extracting phases for obs id:  7253\n"
     ]
    },
    {
     "name": "stderr",
     "output_type": "stream",
     "text": [
      "\u001b[32m2024-05-14 17:58:59.179\u001b[0m | \u001b[34m\u001b[1mDEBUG   \u001b[0m | \u001b[36mpint.toa\u001b[0m:\u001b[36m__init__\u001b[0m:\u001b[36m1358\u001b[0m - \u001b[34m\u001b[1mNo pulse number flags found in the TOAs\u001b[0m\n",
      "\u001b[32m2024-05-14 17:59:00.428\u001b[0m | \u001b[34m\u001b[1mDEBUG   \u001b[0m | \u001b[36mpint.toa\u001b[0m:\u001b[36mapply_clock_corrections\u001b[0m:\u001b[36m2200\u001b[0m - \u001b[34m\u001b[1mApplying clock corrections (include_gps = False, include_bipm = False)\u001b[0m\n",
      "\u001b[32m2024-05-14 18:00:51.381\u001b[0m | \u001b[1mINFO    \u001b[0m | \u001b[36mpint.observatory.topo_obs\u001b[0m:\u001b[36mclock_corrections\u001b[0m:\u001b[36m365\u001b[0m - \u001b[1mObservatory lst requires no clock corrections.\u001b[0m\n",
      "\u001b[32m2024-05-14 18:05:13.501\u001b[0m | \u001b[34m\u001b[1mDEBUG   \u001b[0m | \u001b[36mpint.toa\u001b[0m:\u001b[36mcompute_TDBs\u001b[0m:\u001b[36m2251\u001b[0m - \u001b[34m\u001b[1mComputing TDB columns.\u001b[0m\n",
      "\u001b[32m2024-05-14 18:05:13.502\u001b[0m | \u001b[34m\u001b[1mDEBUG   \u001b[0m | \u001b[36mpint.toa\u001b[0m:\u001b[36mcompute_TDBs\u001b[0m:\u001b[36m2272\u001b[0m - \u001b[34m\u001b[1mUsing EPHEM = DE421 for TDB calculation.\u001b[0m\n",
      "\u001b[32m2024-05-14 18:07:16.923\u001b[0m | \u001b[34m\u001b[1mDEBUG   \u001b[0m | \u001b[36mpint.toa\u001b[0m:\u001b[36mcompute_posvels\u001b[0m:\u001b[36m2350\u001b[0m - \u001b[34m\u001b[1mComputing PosVels of observatories and Earth, using DE421\u001b[0m\n",
      "\u001b[32m2024-05-14 18:07:38.711\u001b[0m | \u001b[1mINFO    \u001b[0m | \u001b[36mpint.solar_system_ephemerides\u001b[0m:\u001b[36m_load_kernel_link\u001b[0m:\u001b[36m55\u001b[0m - \u001b[1mSet solar system ephemeris to de421 from download\u001b[0m\n",
      "\u001b[32m2024-05-14 18:08:32.836\u001b[0m | \u001b[34m\u001b[1mDEBUG   \u001b[0m | \u001b[36mpint.toa\u001b[0m:\u001b[36mcompute_posvels\u001b[0m:\u001b[36m2403\u001b[0m - \u001b[34m\u001b[1mSSB obs pos [-1.43878187e+11  3.80219368e+10  1.65137374e+10] m\u001b[0m\n",
      "\u001b[32m2024-05-14 18:08:33.603\u001b[0m | \u001b[1mINFO    \u001b[0m | \u001b[36mpint.solar_system_ephemerides\u001b[0m:\u001b[36m_load_kernel_link\u001b[0m:\u001b[36m55\u001b[0m - \u001b[1mSet solar system ephemeris to de421 from download\u001b[0m\n",
      "\u001b[32m2024-05-14 18:08:34.394\u001b[0m | \u001b[34m\u001b[1mDEBUG   \u001b[0m | \u001b[36mpint.toa\u001b[0m:\u001b[36mcompute_posvels\u001b[0m:\u001b[36m2417\u001b[0m - \u001b[34m\u001b[1mAdding columns ssb_obs_pos ssb_obs_vel obs_sun_pos\u001b[0m\n",
      "\u001b[32m2024-05-14 18:08:37.599\u001b[0m | \u001b[34m\u001b[1mDEBUG   \u001b[0m | \u001b[36mpint.models.glitch\u001b[0m:\u001b[36mglitch_phase\u001b[0m:\u001b[36m213\u001b[0m - \u001b[34m\u001b[1mGlitch phase for glitch 1: 0.0 \u001b[0m\n",
      "\u001b[32m2024-05-14 18:08:37.766\u001b[0m | \u001b[34m\u001b[1mDEBUG   \u001b[0m | \u001b[36mpint.models.glitch\u001b[0m:\u001b[36mglitch_phase\u001b[0m:\u001b[36m213\u001b[0m - \u001b[34m\u001b[1mGlitch phase for glitch 1: 0.0 \u001b[0m\n",
      "GammapyDeprecationWarning: To write an EventList utilise Observation.write() with include_irfs=False\n"
     ]
    },
    {
     "name": "stdout",
     "output_type": "stream",
     "text": [
      "Extracting phases for obs id:  7254\n"
     ]
    },
    {
     "name": "stderr",
     "output_type": "stream",
     "text": [
      "\u001b[32m2024-05-14 18:09:54.689\u001b[0m | \u001b[34m\u001b[1mDEBUG   \u001b[0m | \u001b[36mpint.toa\u001b[0m:\u001b[36m__init__\u001b[0m:\u001b[36m1358\u001b[0m - \u001b[34m\u001b[1mNo pulse number flags found in the TOAs\u001b[0m\n",
      "\u001b[32m2024-05-14 18:09:55.849\u001b[0m | \u001b[34m\u001b[1mDEBUG   \u001b[0m | \u001b[36mpint.toa\u001b[0m:\u001b[36mapply_clock_corrections\u001b[0m:\u001b[36m2200\u001b[0m - \u001b[34m\u001b[1mApplying clock corrections (include_gps = False, include_bipm = False)\u001b[0m\n",
      "\u001b[32m2024-05-14 18:11:08.734\u001b[0m | \u001b[1mINFO    \u001b[0m | \u001b[36mpint.observatory.topo_obs\u001b[0m:\u001b[36mclock_corrections\u001b[0m:\u001b[36m365\u001b[0m - \u001b[1mObservatory lst requires no clock corrections.\u001b[0m\n",
      "\u001b[32m2024-05-14 18:15:06.756\u001b[0m | \u001b[34m\u001b[1mDEBUG   \u001b[0m | \u001b[36mpint.toa\u001b[0m:\u001b[36mcompute_TDBs\u001b[0m:\u001b[36m2251\u001b[0m - \u001b[34m\u001b[1mComputing TDB columns.\u001b[0m\n",
      "\u001b[32m2024-05-14 18:15:06.756\u001b[0m | \u001b[34m\u001b[1mDEBUG   \u001b[0m | \u001b[36mpint.toa\u001b[0m:\u001b[36mcompute_TDBs\u001b[0m:\u001b[36m2272\u001b[0m - \u001b[34m\u001b[1mUsing EPHEM = DE421 for TDB calculation.\u001b[0m\n",
      "\u001b[32m2024-05-14 18:17:09.235\u001b[0m | \u001b[34m\u001b[1mDEBUG   \u001b[0m | \u001b[36mpint.toa\u001b[0m:\u001b[36mcompute_posvels\u001b[0m:\u001b[36m2350\u001b[0m - \u001b[34m\u001b[1mComputing PosVels of observatories and Earth, using DE421\u001b[0m\n",
      "\u001b[32m2024-05-14 18:17:29.794\u001b[0m | \u001b[1mINFO    \u001b[0m | \u001b[36mpint.solar_system_ephemerides\u001b[0m:\u001b[36m_load_kernel_link\u001b[0m:\u001b[36m55\u001b[0m - \u001b[1mSet solar system ephemeris to de421 from download\u001b[0m\n",
      "\u001b[32m2024-05-14 18:18:19.249\u001b[0m | \u001b[34m\u001b[1mDEBUG   \u001b[0m | \u001b[36mpint.toa\u001b[0m:\u001b[36mcompute_posvels\u001b[0m:\u001b[36m2403\u001b[0m - \u001b[34m\u001b[1mSSB obs pos [-1.43891858e+11  3.79823148e+10  1.64965974e+10] m\u001b[0m\n",
      "\u001b[32m2024-05-14 18:18:20.038\u001b[0m | \u001b[1mINFO    \u001b[0m | \u001b[36mpint.solar_system_ephemerides\u001b[0m:\u001b[36m_load_kernel_link\u001b[0m:\u001b[36m55\u001b[0m - \u001b[1mSet solar system ephemeris to de421 from download\u001b[0m\n",
      "\u001b[32m2024-05-14 18:18:20.798\u001b[0m | \u001b[34m\u001b[1mDEBUG   \u001b[0m | \u001b[36mpint.toa\u001b[0m:\u001b[36mcompute_posvels\u001b[0m:\u001b[36m2417\u001b[0m - \u001b[34m\u001b[1mAdding columns ssb_obs_pos ssb_obs_vel obs_sun_pos\u001b[0m\n",
      "\u001b[32m2024-05-14 18:18:23.700\u001b[0m | \u001b[34m\u001b[1mDEBUG   \u001b[0m | \u001b[36mpint.models.glitch\u001b[0m:\u001b[36mglitch_phase\u001b[0m:\u001b[36m213\u001b[0m - \u001b[34m\u001b[1mGlitch phase for glitch 1: 0.0 \u001b[0m\n",
      "\u001b[32m2024-05-14 18:18:23.848\u001b[0m | \u001b[34m\u001b[1mDEBUG   \u001b[0m | \u001b[36mpint.models.glitch\u001b[0m:\u001b[36mglitch_phase\u001b[0m:\u001b[36m213\u001b[0m - \u001b[34m\u001b[1mGlitch phase for glitch 1: 0.0 \u001b[0m\n",
      "GammapyDeprecationWarning: To write an EventList utilise Observation.write() with include_irfs=False\n"
     ]
    },
    {
     "name": "stdout",
     "output_type": "stream",
     "text": [
      "Extracting phases for obs id:  7255\n"
     ]
    },
    {
     "name": "stderr",
     "output_type": "stream",
     "text": [
      "\u001b[32m2024-05-14 18:19:02.750\u001b[0m | \u001b[34m\u001b[1mDEBUG   \u001b[0m | \u001b[36mpint.toa\u001b[0m:\u001b[36m__init__\u001b[0m:\u001b[36m1358\u001b[0m - \u001b[34m\u001b[1mNo pulse number flags found in the TOAs\u001b[0m\n",
      "\u001b[32m2024-05-14 18:19:03.606\u001b[0m | \u001b[34m\u001b[1mDEBUG   \u001b[0m | \u001b[36mpint.toa\u001b[0m:\u001b[36mapply_clock_corrections\u001b[0m:\u001b[36m2200\u001b[0m - \u001b[34m\u001b[1mApplying clock corrections (include_gps = False, include_bipm = False)\u001b[0m\n",
      "\u001b[32m2024-05-14 18:20:04.703\u001b[0m | \u001b[1mINFO    \u001b[0m | \u001b[36mpint.observatory.topo_obs\u001b[0m:\u001b[36mclock_corrections\u001b[0m:\u001b[36m365\u001b[0m - \u001b[1mObservatory lst requires no clock corrections.\u001b[0m\n",
      "\u001b[32m2024-05-14 18:22:55.009\u001b[0m | \u001b[34m\u001b[1mDEBUG   \u001b[0m | \u001b[36mpint.toa\u001b[0m:\u001b[36mcompute_TDBs\u001b[0m:\u001b[36m2251\u001b[0m - \u001b[34m\u001b[1mComputing TDB columns.\u001b[0m\n",
      "\u001b[32m2024-05-14 18:22:55.010\u001b[0m | \u001b[34m\u001b[1mDEBUG   \u001b[0m | \u001b[36mpint.toa\u001b[0m:\u001b[36mcompute_TDBs\u001b[0m:\u001b[36m2272\u001b[0m - \u001b[34m\u001b[1mUsing EPHEM = DE421 for TDB calculation.\u001b[0m\n",
      "\u001b[32m2024-05-14 18:24:17.453\u001b[0m | \u001b[34m\u001b[1mDEBUG   \u001b[0m | \u001b[36mpint.toa\u001b[0m:\u001b[36mcompute_posvels\u001b[0m:\u001b[36m2350\u001b[0m - \u001b[34m\u001b[1mComputing PosVels of observatories and Earth, using DE421\u001b[0m\n",
      "\u001b[32m2024-05-14 18:24:31.480\u001b[0m | \u001b[1mINFO    \u001b[0m | \u001b[36mpint.solar_system_ephemerides\u001b[0m:\u001b[36m_load_kernel_link\u001b[0m:\u001b[36m55\u001b[0m - \u001b[1mSet solar system ephemeris to de421 from download\u001b[0m\n",
      "\u001b[32m2024-05-14 18:25:07.616\u001b[0m | \u001b[34m\u001b[1mDEBUG   \u001b[0m | \u001b[36mpint.toa\u001b[0m:\u001b[36mcompute_posvels\u001b[0m:\u001b[36m2403\u001b[0m - \u001b[34m\u001b[1mSSB obs pos [-1.43908582e+11  3.79336443e+10  1.64755817e+10] m\u001b[0m\n",
      "\u001b[32m2024-05-14 18:25:08.347\u001b[0m | \u001b[1mINFO    \u001b[0m | \u001b[36mpint.solar_system_ephemerides\u001b[0m:\u001b[36m_load_kernel_link\u001b[0m:\u001b[36m55\u001b[0m - \u001b[1mSet solar system ephemeris to de421 from download\u001b[0m\n",
      "\u001b[32m2024-05-14 18:25:08.862\u001b[0m | \u001b[34m\u001b[1mDEBUG   \u001b[0m | \u001b[36mpint.toa\u001b[0m:\u001b[36mcompute_posvels\u001b[0m:\u001b[36m2417\u001b[0m - \u001b[34m\u001b[1mAdding columns ssb_obs_pos ssb_obs_vel obs_sun_pos\u001b[0m\n",
      "\u001b[32m2024-05-14 18:25:10.977\u001b[0m | \u001b[34m\u001b[1mDEBUG   \u001b[0m | \u001b[36mpint.models.glitch\u001b[0m:\u001b[36mglitch_phase\u001b[0m:\u001b[36m213\u001b[0m - \u001b[34m\u001b[1mGlitch phase for glitch 1: 0.0 \u001b[0m\n",
      "\u001b[32m2024-05-14 18:25:11.092\u001b[0m | \u001b[34m\u001b[1mDEBUG   \u001b[0m | \u001b[36mpint.models.glitch\u001b[0m:\u001b[36mglitch_phase\u001b[0m:\u001b[36m213\u001b[0m - \u001b[34m\u001b[1mGlitch phase for glitch 1: 0.0 \u001b[0m\n",
      "GammapyDeprecationWarning: To write an EventList utilise Observation.write() with include_irfs=False\n"
     ]
    },
    {
     "name": "stdout",
     "output_type": "stream",
     "text": [
      "Extracting phases for obs id:  7256\n"
     ]
    },
    {
     "name": "stderr",
     "output_type": "stream",
     "text": [
      "\u001b[32m2024-05-14 18:25:32.212\u001b[0m | \u001b[34m\u001b[1mDEBUG   \u001b[0m | \u001b[36mpint.toa\u001b[0m:\u001b[36m__init__\u001b[0m:\u001b[36m1358\u001b[0m - \u001b[34m\u001b[1mNo pulse number flags found in the TOAs\u001b[0m\n",
      "\u001b[32m2024-05-14 18:25:32.549\u001b[0m | \u001b[34m\u001b[1mDEBUG   \u001b[0m | \u001b[36mpint.toa\u001b[0m:\u001b[36mapply_clock_corrections\u001b[0m:\u001b[36m2200\u001b[0m - \u001b[34m\u001b[1mApplying clock corrections (include_gps = False, include_bipm = False)\u001b[0m\n",
      "\u001b[32m2024-05-14 18:26:03.571\u001b[0m | \u001b[1mINFO    \u001b[0m | \u001b[36mpint.observatory.topo_obs\u001b[0m:\u001b[36mclock_corrections\u001b[0m:\u001b[36m365\u001b[0m - \u001b[1mObservatory lst requires no clock corrections.\u001b[0m\n",
      "\u001b[32m2024-05-14 18:27:13.245\u001b[0m | \u001b[34m\u001b[1mDEBUG   \u001b[0m | \u001b[36mpint.toa\u001b[0m:\u001b[36mcompute_TDBs\u001b[0m:\u001b[36m2251\u001b[0m - \u001b[34m\u001b[1mComputing TDB columns.\u001b[0m\n",
      "\u001b[32m2024-05-14 18:27:13.245\u001b[0m | \u001b[34m\u001b[1mDEBUG   \u001b[0m | \u001b[36mpint.toa\u001b[0m:\u001b[36mcompute_TDBs\u001b[0m:\u001b[36m2272\u001b[0m - \u001b[34m\u001b[1mUsing EPHEM = DE421 for TDB calculation.\u001b[0m\n",
      "\u001b[32m2024-05-14 18:27:40.767\u001b[0m | \u001b[34m\u001b[1mDEBUG   \u001b[0m | \u001b[36mpint.toa\u001b[0m:\u001b[36mcompute_posvels\u001b[0m:\u001b[36m2350\u001b[0m - \u001b[34m\u001b[1mComputing PosVels of observatories and Earth, using DE421\u001b[0m\n",
      "\u001b[32m2024-05-14 18:27:46.785\u001b[0m | \u001b[1mINFO    \u001b[0m | \u001b[36mpint.solar_system_ephemerides\u001b[0m:\u001b[36m_load_kernel_link\u001b[0m:\u001b[36m55\u001b[0m - \u001b[1mSet solar system ephemeris to de421 from download\u001b[0m\n",
      "\u001b[32m2024-05-14 18:28:01.420\u001b[0m | \u001b[34m\u001b[1mDEBUG   \u001b[0m | \u001b[36mpint.toa\u001b[0m:\u001b[36mcompute_posvels\u001b[0m:\u001b[36m2403\u001b[0m - \u001b[34m\u001b[1mSSB obs pos [-1.43917893e+11  3.79064407e+10  1.64638533e+10] m\u001b[0m\n",
      "\u001b[32m2024-05-14 18:28:02.144\u001b[0m | \u001b[1mINFO    \u001b[0m | \u001b[36mpint.solar_system_ephemerides\u001b[0m:\u001b[36m_load_kernel_link\u001b[0m:\u001b[36m55\u001b[0m - \u001b[1mSet solar system ephemeris to de421 from download\u001b[0m\n",
      "\u001b[32m2024-05-14 18:28:02.351\u001b[0m | \u001b[34m\u001b[1mDEBUG   \u001b[0m | \u001b[36mpint.toa\u001b[0m:\u001b[36mcompute_posvels\u001b[0m:\u001b[36m2417\u001b[0m - \u001b[34m\u001b[1mAdding columns ssb_obs_pos ssb_obs_vel obs_sun_pos\u001b[0m\n",
      "\u001b[32m2024-05-14 18:28:03.163\u001b[0m | \u001b[34m\u001b[1mDEBUG   \u001b[0m | \u001b[36mpint.models.glitch\u001b[0m:\u001b[36mglitch_phase\u001b[0m:\u001b[36m213\u001b[0m - \u001b[34m\u001b[1mGlitch phase for glitch 1: 0.0 \u001b[0m\n",
      "\u001b[32m2024-05-14 18:28:03.204\u001b[0m | \u001b[34m\u001b[1mDEBUG   \u001b[0m | \u001b[36mpint.models.glitch\u001b[0m:\u001b[36mglitch_phase\u001b[0m:\u001b[36m213\u001b[0m - \u001b[34m\u001b[1mGlitch phase for glitch 1: 0.0 \u001b[0m\n",
      "GammapyDeprecationWarning: To write an EventList utilise Observation.write() with include_irfs=False\n"
     ]
    },
    {
     "name": "stdout",
     "output_type": "stream",
     "text": [
      "Extracting phases for obs id:  7274\n"
     ]
    },
    {
     "name": "stderr",
     "output_type": "stream",
     "text": [
      "\u001b[32m2024-05-14 18:28:33.754\u001b[0m | \u001b[34m\u001b[1mDEBUG   \u001b[0m | \u001b[36mpint.toa\u001b[0m:\u001b[36m__init__\u001b[0m:\u001b[36m1358\u001b[0m - \u001b[34m\u001b[1mNo pulse number flags found in the TOAs\u001b[0m\n",
      "\u001b[32m2024-05-14 18:28:34.616\u001b[0m | \u001b[34m\u001b[1mDEBUG   \u001b[0m | \u001b[36mpint.toa\u001b[0m:\u001b[36mapply_clock_corrections\u001b[0m:\u001b[36m2200\u001b[0m - \u001b[34m\u001b[1mApplying clock corrections (include_gps = False, include_bipm = False)\u001b[0m\n",
      "\u001b[32m2024-05-14 18:29:11.475\u001b[0m | \u001b[1mINFO    \u001b[0m | \u001b[36mpint.observatory.topo_obs\u001b[0m:\u001b[36mclock_corrections\u001b[0m:\u001b[36m365\u001b[0m - \u001b[1mObservatory lst requires no clock corrections.\u001b[0m\n",
      "\u001b[32m2024-05-14 18:32:07.051\u001b[0m | \u001b[34m\u001b[1mDEBUG   \u001b[0m | \u001b[36mpint.toa\u001b[0m:\u001b[36mcompute_TDBs\u001b[0m:\u001b[36m2251\u001b[0m - \u001b[34m\u001b[1mComputing TDB columns.\u001b[0m\n",
      "\u001b[32m2024-05-14 18:32:07.052\u001b[0m | \u001b[34m\u001b[1mDEBUG   \u001b[0m | \u001b[36mpint.toa\u001b[0m:\u001b[36mcompute_TDBs\u001b[0m:\u001b[36m2272\u001b[0m - \u001b[34m\u001b[1mUsing EPHEM = DE421 for TDB calculation.\u001b[0m\n",
      "\u001b[32m2024-05-14 18:33:11.344\u001b[0m | \u001b[34m\u001b[1mDEBUG   \u001b[0m | \u001b[36mpint.toa\u001b[0m:\u001b[36mcompute_posvels\u001b[0m:\u001b[36m2350\u001b[0m - \u001b[34m\u001b[1mComputing PosVels of observatories and Earth, using DE421\u001b[0m\n",
      "\u001b[32m2024-05-14 18:33:25.465\u001b[0m | \u001b[1mINFO    \u001b[0m | \u001b[36mpint.solar_system_ephemerides\u001b[0m:\u001b[36m_load_kernel_link\u001b[0m:\u001b[36m55\u001b[0m - \u001b[1mSet solar system ephemeris to de421 from download\u001b[0m\n",
      "\u001b[32m2024-05-14 18:34:02.708\u001b[0m | \u001b[34m\u001b[1mDEBUG   \u001b[0m | \u001b[36mpint.toa\u001b[0m:\u001b[36mcompute_posvels\u001b[0m:\u001b[36m2403\u001b[0m - \u001b[34m\u001b[1mSSB obs pos [-1.44617012e+11  3.57155754e+10  1.55139131e+10] m\u001b[0m\n",
      "\u001b[32m2024-05-14 18:34:03.446\u001b[0m | \u001b[1mINFO    \u001b[0m | \u001b[36mpint.solar_system_ephemerides\u001b[0m:\u001b[36m_load_kernel_link\u001b[0m:\u001b[36m55\u001b[0m - \u001b[1mSet solar system ephemeris to de421 from download\u001b[0m\n",
      "\u001b[32m2024-05-14 18:34:03.925\u001b[0m | \u001b[34m\u001b[1mDEBUG   \u001b[0m | \u001b[36mpint.toa\u001b[0m:\u001b[36mcompute_posvels\u001b[0m:\u001b[36m2417\u001b[0m - \u001b[34m\u001b[1mAdding columns ssb_obs_pos ssb_obs_vel obs_sun_pos\u001b[0m\n",
      "\u001b[32m2024-05-14 18:34:05.835\u001b[0m | \u001b[34m\u001b[1mDEBUG   \u001b[0m | \u001b[36mpint.models.glitch\u001b[0m:\u001b[36mglitch_phase\u001b[0m:\u001b[36m213\u001b[0m - \u001b[34m\u001b[1mGlitch phase for glitch 1: 0.0 \u001b[0m\n",
      "\u001b[32m2024-05-14 18:34:05.951\u001b[0m | \u001b[34m\u001b[1mDEBUG   \u001b[0m | \u001b[36mpint.models.glitch\u001b[0m:\u001b[36mglitch_phase\u001b[0m:\u001b[36m213\u001b[0m - \u001b[34m\u001b[1mGlitch phase for glitch 1: 0.0 \u001b[0m\n",
      "GammapyDeprecationWarning: To write an EventList utilise Observation.write() with include_irfs=False\n"
     ]
    },
    {
     "name": "stdout",
     "output_type": "stream",
     "text": [
      "Extracting phases for obs id:  7275\n"
     ]
    },
    {
     "name": "stderr",
     "output_type": "stream",
     "text": [
      "\u001b[32m2024-05-14 18:34:48.934\u001b[0m | \u001b[34m\u001b[1mDEBUG   \u001b[0m | \u001b[36mpint.toa\u001b[0m:\u001b[36m__init__\u001b[0m:\u001b[36m1358\u001b[0m - \u001b[34m\u001b[1mNo pulse number flags found in the TOAs\u001b[0m\n",
      "\u001b[32m2024-05-14 18:34:49.909\u001b[0m | \u001b[34m\u001b[1mDEBUG   \u001b[0m | \u001b[36mpint.toa\u001b[0m:\u001b[36mapply_clock_corrections\u001b[0m:\u001b[36m2200\u001b[0m - \u001b[34m\u001b[1mApplying clock corrections (include_gps = False, include_bipm = False)\u001b[0m\n",
      "\u001b[32m2024-05-14 18:35:35.016\u001b[0m | \u001b[1mINFO    \u001b[0m | \u001b[36mpint.observatory.topo_obs\u001b[0m:\u001b[36mclock_corrections\u001b[0m:\u001b[36m365\u001b[0m - \u001b[1mObservatory lst requires no clock corrections.\u001b[0m\n",
      "\u001b[32m2024-05-14 18:38:55.472\u001b[0m | \u001b[34m\u001b[1mDEBUG   \u001b[0m | \u001b[36mpint.toa\u001b[0m:\u001b[36mcompute_TDBs\u001b[0m:\u001b[36m2251\u001b[0m - \u001b[34m\u001b[1mComputing TDB columns.\u001b[0m\n",
      "\u001b[32m2024-05-14 18:38:55.473\u001b[0m | \u001b[34m\u001b[1mDEBUG   \u001b[0m | \u001b[36mpint.toa\u001b[0m:\u001b[36mcompute_TDBs\u001b[0m:\u001b[36m2272\u001b[0m - \u001b[34m\u001b[1mUsing EPHEM = DE421 for TDB calculation.\u001b[0m\n",
      "\u001b[32m2024-05-14 18:40:22.226\u001b[0m | \u001b[34m\u001b[1mDEBUG   \u001b[0m | \u001b[36mpint.toa\u001b[0m:\u001b[36mcompute_posvels\u001b[0m:\u001b[36m2350\u001b[0m - \u001b[34m\u001b[1mComputing PosVels of observatories and Earth, using DE421\u001b[0m\n",
      "\u001b[32m2024-05-14 18:40:39.009\u001b[0m | \u001b[1mINFO    \u001b[0m | \u001b[36mpint.solar_system_ephemerides\u001b[0m:\u001b[36m_load_kernel_link\u001b[0m:\u001b[36m55\u001b[0m - \u001b[1mSet solar system ephemeris to de421 from download\u001b[0m\n",
      "\u001b[32m2024-05-14 18:41:20.887\u001b[0m | \u001b[34m\u001b[1mDEBUG   \u001b[0m | \u001b[36mpint.toa\u001b[0m:\u001b[36mcompute_posvels\u001b[0m:\u001b[36m2403\u001b[0m - \u001b[34m\u001b[1mSSB obs pos [-1.44640257e+11  3.56436381e+10  1.54828477e+10] m\u001b[0m\n",
      "\u001b[32m2024-05-14 18:41:21.628\u001b[0m | \u001b[1mINFO    \u001b[0m | \u001b[36mpint.solar_system_ephemerides\u001b[0m:\u001b[36m_load_kernel_link\u001b[0m:\u001b[36m55\u001b[0m - \u001b[1mSet solar system ephemeris to de421 from download\u001b[0m\n",
      "\u001b[32m2024-05-14 18:41:22.217\u001b[0m | \u001b[34m\u001b[1mDEBUG   \u001b[0m | \u001b[36mpint.toa\u001b[0m:\u001b[36mcompute_posvels\u001b[0m:\u001b[36m2417\u001b[0m - \u001b[34m\u001b[1mAdding columns ssb_obs_pos ssb_obs_vel obs_sun_pos\u001b[0m\n",
      "\u001b[32m2024-05-14 18:41:24.612\u001b[0m | \u001b[34m\u001b[1mDEBUG   \u001b[0m | \u001b[36mpint.models.glitch\u001b[0m:\u001b[36mglitch_phase\u001b[0m:\u001b[36m213\u001b[0m - \u001b[34m\u001b[1mGlitch phase for glitch 1: 0.0 \u001b[0m\n",
      "\u001b[32m2024-05-14 18:41:24.746\u001b[0m | \u001b[34m\u001b[1mDEBUG   \u001b[0m | \u001b[36mpint.models.glitch\u001b[0m:\u001b[36mglitch_phase\u001b[0m:\u001b[36m213\u001b[0m - \u001b[34m\u001b[1mGlitch phase for glitch 1: 0.0 \u001b[0m\n",
      "GammapyDeprecationWarning: To write an EventList utilise Observation.write() with include_irfs=False\n"
     ]
    },
    {
     "name": "stdout",
     "output_type": "stream",
     "text": [
      "Extracting phases for obs id:  7276\n"
     ]
    },
    {
     "name": "stderr",
     "output_type": "stream",
     "text": [
      "\u001b[32m2024-05-14 18:41:46.764\u001b[0m | \u001b[34m\u001b[1mDEBUG   \u001b[0m | \u001b[36mpint.toa\u001b[0m:\u001b[36m__init__\u001b[0m:\u001b[36m1358\u001b[0m - \u001b[34m\u001b[1mNo pulse number flags found in the TOAs\u001b[0m\n",
      "\u001b[32m2024-05-14 18:41:47.066\u001b[0m | \u001b[34m\u001b[1mDEBUG   \u001b[0m | \u001b[36mpint.toa\u001b[0m:\u001b[36mapply_clock_corrections\u001b[0m:\u001b[36m2200\u001b[0m - \u001b[34m\u001b[1mApplying clock corrections (include_gps = False, include_bipm = False)\u001b[0m\n",
      "\u001b[32m2024-05-14 18:42:16.461\u001b[0m | \u001b[1mINFO    \u001b[0m | \u001b[36mpint.observatory.topo_obs\u001b[0m:\u001b[36mclock_corrections\u001b[0m:\u001b[36m365\u001b[0m - \u001b[1mObservatory lst requires no clock corrections.\u001b[0m\n",
      "\u001b[32m2024-05-14 18:43:18.821\u001b[0m | \u001b[34m\u001b[1mDEBUG   \u001b[0m | \u001b[36mpint.toa\u001b[0m:\u001b[36mcompute_TDBs\u001b[0m:\u001b[36m2251\u001b[0m - \u001b[34m\u001b[1mComputing TDB columns.\u001b[0m\n",
      "\u001b[32m2024-05-14 18:43:18.822\u001b[0m | \u001b[34m\u001b[1mDEBUG   \u001b[0m | \u001b[36mpint.toa\u001b[0m:\u001b[36mcompute_TDBs\u001b[0m:\u001b[36m2272\u001b[0m - \u001b[34m\u001b[1mUsing EPHEM = DE421 for TDB calculation.\u001b[0m\n",
      "\u001b[32m2024-05-14 18:43:46.276\u001b[0m | \u001b[34m\u001b[1mDEBUG   \u001b[0m | \u001b[36mpint.toa\u001b[0m:\u001b[36mcompute_posvels\u001b[0m:\u001b[36m2350\u001b[0m - \u001b[34m\u001b[1mComputing PosVels of observatories and Earth, using DE421\u001b[0m\n",
      "\u001b[32m2024-05-14 18:43:51.682\u001b[0m | \u001b[1mINFO    \u001b[0m | \u001b[36mpint.solar_system_ephemerides\u001b[0m:\u001b[36m_load_kernel_link\u001b[0m:\u001b[36m55\u001b[0m - \u001b[1mSet solar system ephemeris to de421 from download\u001b[0m\n",
      "\u001b[32m2024-05-14 18:44:04.728\u001b[0m | \u001b[34m\u001b[1mDEBUG   \u001b[0m | \u001b[36mpint.toa\u001b[0m:\u001b[36mcompute_posvels\u001b[0m:\u001b[36m2403\u001b[0m - \u001b[34m\u001b[1mSSB obs pos [-1.44651225e+11  3.56095041e+10  1.54681383e+10] m\u001b[0m\n",
      "\u001b[32m2024-05-14 18:44:05.443\u001b[0m | \u001b[1mINFO    \u001b[0m | \u001b[36mpint.solar_system_ephemerides\u001b[0m:\u001b[36m_load_kernel_link\u001b[0m:\u001b[36m55\u001b[0m - \u001b[1mSet solar system ephemeris to de421 from download\u001b[0m\n",
      "\u001b[32m2024-05-14 18:44:05.632\u001b[0m | \u001b[34m\u001b[1mDEBUG   \u001b[0m | \u001b[36mpint.toa\u001b[0m:\u001b[36mcompute_posvels\u001b[0m:\u001b[36m2417\u001b[0m - \u001b[34m\u001b[1mAdding columns ssb_obs_pos ssb_obs_vel obs_sun_pos\u001b[0m\n",
      "\u001b[32m2024-05-14 18:44:06.457\u001b[0m | \u001b[34m\u001b[1mDEBUG   \u001b[0m | \u001b[36mpint.models.glitch\u001b[0m:\u001b[36mglitch_phase\u001b[0m:\u001b[36m213\u001b[0m - \u001b[34m\u001b[1mGlitch phase for glitch 1: 0.0 \u001b[0m\n",
      "\u001b[32m2024-05-14 18:44:06.497\u001b[0m | \u001b[34m\u001b[1mDEBUG   \u001b[0m | \u001b[36mpint.models.glitch\u001b[0m:\u001b[36mglitch_phase\u001b[0m:\u001b[36m213\u001b[0m - \u001b[34m\u001b[1mGlitch phase for glitch 1: 0.0 \u001b[0m\n",
      "GammapyDeprecationWarning: To write an EventList utilise Observation.write() with include_irfs=False\n"
     ]
    },
    {
     "name": "stdout",
     "output_type": "stream",
     "text": [
      "Extracting phases for obs id:  7277\n"
     ]
    },
    {
     "name": "stderr",
     "output_type": "stream",
     "text": [
      "\u001b[32m2024-05-14 18:44:35.075\u001b[0m | \u001b[34m\u001b[1mDEBUG   \u001b[0m | \u001b[36mpint.toa\u001b[0m:\u001b[36m__init__\u001b[0m:\u001b[36m1358\u001b[0m - \u001b[34m\u001b[1mNo pulse number flags found in the TOAs\u001b[0m\n",
      "\u001b[32m2024-05-14 18:44:35.809\u001b[0m | \u001b[34m\u001b[1mDEBUG   \u001b[0m | \u001b[36mpint.toa\u001b[0m:\u001b[36mapply_clock_corrections\u001b[0m:\u001b[36m2200\u001b[0m - \u001b[34m\u001b[1mApplying clock corrections (include_gps = False, include_bipm = False)\u001b[0m\n",
      "\u001b[32m2024-05-14 18:45:07.389\u001b[0m | \u001b[1mINFO    \u001b[0m | \u001b[36mpint.observatory.topo_obs\u001b[0m:\u001b[36mclock_corrections\u001b[0m:\u001b[36m365\u001b[0m - \u001b[1mObservatory lst requires no clock corrections.\u001b[0m\n",
      "\u001b[32m2024-05-14 18:47:41.513\u001b[0m | \u001b[34m\u001b[1mDEBUG   \u001b[0m | \u001b[36mpint.toa\u001b[0m:\u001b[36mcompute_TDBs\u001b[0m:\u001b[36m2251\u001b[0m - \u001b[34m\u001b[1mComputing TDB columns.\u001b[0m\n",
      "\u001b[32m2024-05-14 18:47:41.514\u001b[0m | \u001b[34m\u001b[1mDEBUG   \u001b[0m | \u001b[36mpint.toa\u001b[0m:\u001b[36mcompute_TDBs\u001b[0m:\u001b[36m2272\u001b[0m - \u001b[34m\u001b[1mUsing EPHEM = DE421 for TDB calculation.\u001b[0m\n",
      "\u001b[32m2024-05-14 18:48:37.441\u001b[0m | \u001b[34m\u001b[1mDEBUG   \u001b[0m | \u001b[36mpint.toa\u001b[0m:\u001b[36mcompute_posvels\u001b[0m:\u001b[36m2350\u001b[0m - \u001b[34m\u001b[1mComputing PosVels of observatories and Earth, using DE421\u001b[0m\n",
      "\u001b[32m2024-05-14 18:48:49.998\u001b[0m | \u001b[1mINFO    \u001b[0m | \u001b[36mpint.solar_system_ephemerides\u001b[0m:\u001b[36m_load_kernel_link\u001b[0m:\u001b[36m55\u001b[0m - \u001b[1mSet solar system ephemeris to de421 from download\u001b[0m\n",
      "\u001b[32m2024-05-14 18:49:21.683\u001b[0m | \u001b[34m\u001b[1mDEBUG   \u001b[0m | \u001b[36mpint.toa\u001b[0m:\u001b[36mcompute_posvels\u001b[0m:\u001b[36m2403\u001b[0m - \u001b[34m\u001b[1mSSB obs pos [-1.44656305e+11  3.55936456e+10  1.54613108e+10] m\u001b[0m\n",
      "\u001b[32m2024-05-14 18:49:22.417\u001b[0m | \u001b[1mINFO    \u001b[0m | \u001b[36mpint.solar_system_ephemerides\u001b[0m:\u001b[36m_load_kernel_link\u001b[0m:\u001b[36m55\u001b[0m - \u001b[1mSet solar system ephemeris to de421 from download\u001b[0m\n",
      "\u001b[32m2024-05-14 18:49:22.905\u001b[0m | \u001b[34m\u001b[1mDEBUG   \u001b[0m | \u001b[36mpint.toa\u001b[0m:\u001b[36mcompute_posvels\u001b[0m:\u001b[36m2417\u001b[0m - \u001b[34m\u001b[1mAdding columns ssb_obs_pos ssb_obs_vel obs_sun_pos\u001b[0m\n",
      "\u001b[32m2024-05-14 18:49:24.550\u001b[0m | \u001b[34m\u001b[1mDEBUG   \u001b[0m | \u001b[36mpint.models.glitch\u001b[0m:\u001b[36mglitch_phase\u001b[0m:\u001b[36m213\u001b[0m - \u001b[34m\u001b[1mGlitch phase for glitch 1: 0.0 \u001b[0m\n",
      "\u001b[32m2024-05-14 18:49:24.633\u001b[0m | \u001b[34m\u001b[1mDEBUG   \u001b[0m | \u001b[36mpint.models.glitch\u001b[0m:\u001b[36mglitch_phase\u001b[0m:\u001b[36m213\u001b[0m - \u001b[34m\u001b[1mGlitch phase for glitch 1: 0.0 \u001b[0m\n",
      "GammapyDeprecationWarning: To write an EventList utilise Observation.write() with include_irfs=False\n"
     ]
    }
   ],
   "source": [
    "for obs in observations:\n",
    "    print(\"Extracting phases for obs id: \", obs.obs_id)\n",
    "    times = obs.events.time\n",
    "    include_bipm = False\n",
    "    include_gps = False\n",
    "\n",
    "    # Set this to True or False depending on your ephemeris file.\n",
    "    # Here we can see that the 'PLANET_SHAPIRO' entry is 'N' so we set it to True.\n",
    "    planets = False\n",
    "    \n",
    "    # Create a TOA object for each time\n",
    "    toas = toa.get_TOAs_array(\n",
    "        times=times,\n",
    "        obs=\"LST\",\n",
    "        errors=1 * u.microsecond,\n",
    "        ephem=\"DE421\",\n",
    "        include_gps=include_gps,\n",
    "        include_bipm=include_bipm,\n",
    "        planets=planets,\n",
    "    )\n",
    "    phases = model.phase(toas, abs_phase=True)[1]\n",
    "\n",
    "    # Shift phases to the interval (0,1]\n",
    "    phases = np.where(phases < 0.0, phases + 1.0, phases)\n",
    "\n",
    "    # Add phase column to table\n",
    "\n",
    "    table = obs.events.table\n",
    "    table[\"PHASE\"] = phases.astype(\"float64\") \n",
    "\n",
    "    new_event_list = EventList(table)\n",
    "    new_event_list.write(filename=\"DL3_lstchain_v0.10.9/\" + f\"dl3_pulsar_{obs.obs_id:04d}.fits.gz\", overwrite=True)\n",
    "    "
   ]
  },
  {
   "cell_type": "code",
   "execution_count": 93,
   "id": "34fea53b-4239-432c-b08f-e3d1d4f1c5b5",
   "metadata": {},
   "outputs": [
    {
     "name": "stdout",
     "output_type": "stream",
     "text": [
      ". dl3_pulsar_7253.fits.gz\n",
      ". dl3_pulsar_7254.fits.gz\n",
      ". dl3_pulsar_7255.fits.gz\n",
      ". dl3_pulsar_7256.fits.gz\n",
      ". dl3_pulsar_7274.fits.gz\n",
      ". dl3_pulsar_7275.fits.gz\n",
      ". dl3_pulsar_7276.fits.gz\n",
      ". dl3_pulsar_7277.fits.gz\n"
     ]
    },
    {
     "name": "stderr",
     "output_type": "stream",
     "text": [
      "StringTruncateWarning: truncated right side string(s) longer than 1 character(s) during assignment\n",
      "StringTruncateWarning: truncated right side string(s) longer than 1 character(s) during assignment\n",
      "StringTruncateWarning: truncated right side string(s) longer than 1 character(s) during assignment\n",
      "StringTruncateWarning: truncated right side string(s) longer than 1 character(s) during assignment\n",
      "StringTruncateWarning: truncated right side string(s) longer than 1 character(s) during assignment\n",
      "StringTruncateWarning: truncated right side string(s) longer than 1 character(s) during assignment\n",
      "StringTruncateWarning: truncated right side string(s) longer than 1 character(s) during assignment\n",
      "StringTruncateWarning: truncated right side string(s) longer than 1 character(s) during assignment\n"
     ]
    }
   ],
   "source": [
    "new_hdu = datastore.hdu_table.copy()\n",
    "output_directory = \"./pulsar_events_file/\"\n",
    "for entry in new_hdu:\n",
    "    for obs in observations:\n",
    "        if entry[\"HDU_TYPE\"] == \"events\" and entry[\"OBS_ID\"] == obs.obs_id:           \n",
    "            entry[\"FILE_DIR\"] = \"./\"\n",
    "            entry[\"FILE_NAME\"] =  f\"dl3_pulsar_{obs.obs_id:04d}.fits.gz\"\n",
    "            print(entry[\"FILE_DIR\"], entry[\"FILE_NAME\"])"
   ]
  },
  {
   "cell_type": "code",
   "execution_count": 94,
   "id": "c92cf48c-7774-42e8-80b5-8b7d9c2ecacf",
   "metadata": {},
   "outputs": [
    {
     "data": {
      "text/plain": [
       "'./pulsar_events_file/'"
      ]
     },
     "execution_count": 94,
     "metadata": {},
     "output_type": "execute_result"
    }
   ],
   "source": [
    "output_directory"
   ]
  },
  {
   "cell_type": "code",
   "execution_count": 95,
   "id": "0a36b6bc-a0ad-4587-a5da-cb32e001a0fb",
   "metadata": {},
   "outputs": [
    {
     "data": {
      "text/html": [
       "<div><i>HDUIndexTable length=48</i>\n",
       "<table id=\"table11646083392\" class=\"table-striped table-bordered table-condensed\">\n",
       "<thead><tr><th>OBS_ID</th><th>HDU_TYPE</th><th>HDU_CLASS</th><th>FILE_DIR</th><th>FILE_NAME</th><th>HDU_NAME</th><th>SIZE</th></tr></thead>\n",
       "<thead><tr><th>int64</th><th>bytes8</th><th>bytes10</th><th>bytes1</th><th>bytes23</th><th>bytes17</th><th>int64</th></tr></thead>\n",
       "<tr><td>7253</td><td>events</td><td>events</td><td>.</td><td>dl3_pulsar_7253.fits.gz</td><td>EVENTS</td><td>148884480</td></tr>\n",
       "<tr><td>7253</td><td>gti</td><td>gti</td><td>.</td><td>dl3_LST-1.Run07253.fits</td><td>GTI</td><td>148884480</td></tr>\n",
       "<tr><td>7253</td><td>pointing</td><td>pointing</td><td>.</td><td>dl3_LST-1.Run07253.fits</td><td>POINTING</td><td>148884480</td></tr>\n",
       "<tr><td>7253</td><td>aeff</td><td>aeff_2d</td><td>.</td><td>dl3_LST-1.Run07253.fits</td><td>EFFECTIVE AREA</td><td>148884480</td></tr>\n",
       "<tr><td>7253</td><td>edisp</td><td>edisp_2d</td><td>.</td><td>dl3_LST-1.Run07253.fits</td><td>ENERGY DISPERSION</td><td>148884480</td></tr>\n",
       "<tr><td>7253</td><td>rad_max</td><td>rad_max_2d</td><td>.</td><td>dl3_LST-1.Run07253.fits</td><td>RAD_MAX</td><td>148884480</td></tr>\n",
       "<tr><td>...</td><td>...</td><td>...</td><td>...</td><td>...</td><td>...</td><td>...</td></tr>\n",
       "<tr><td>7276</td><td>rad_max</td><td>rad_max_2d</td><td>.</td><td>dl3_LST-1.Run07276.fits</td><td>RAD_MAX</td><td>35602560</td></tr>\n",
       "<tr><td>7277</td><td>events</td><td>events</td><td>.</td><td>dl3_pulsar_7277.fits.gz</td><td>EVENTS</td><td>88323840</td></tr>\n",
       "<tr><td>7277</td><td>gti</td><td>gti</td><td>.</td><td>dl3_LST-1.Run07277.fits</td><td>GTI</td><td>88323840</td></tr>\n",
       "<tr><td>7277</td><td>pointing</td><td>pointing</td><td>.</td><td>dl3_LST-1.Run07277.fits</td><td>POINTING</td><td>88323840</td></tr>\n",
       "<tr><td>7277</td><td>aeff</td><td>aeff_2d</td><td>.</td><td>dl3_LST-1.Run07277.fits</td><td>EFFECTIVE AREA</td><td>88323840</td></tr>\n",
       "<tr><td>7277</td><td>edisp</td><td>edisp_2d</td><td>.</td><td>dl3_LST-1.Run07277.fits</td><td>ENERGY DISPERSION</td><td>88323840</td></tr>\n",
       "<tr><td>7277</td><td>rad_max</td><td>rad_max_2d</td><td>.</td><td>dl3_LST-1.Run07277.fits</td><td>RAD_MAX</td><td>88323840</td></tr>\n",
       "</table></div>"
      ],
      "text/plain": [
       "<HDUIndexTable length=48>\n",
       "OBS_ID HDU_TYPE HDU_CLASS  ...        FILE_NAME             HDU_NAME        SIZE  \n",
       "int64   bytes8   bytes10   ...         bytes23              bytes17        int64  \n",
       "------ -------- ---------- ... ----------------------- ----------------- ---------\n",
       "  7253   events     events ... dl3_pulsar_7253.fits.gz            EVENTS 148884480\n",
       "  7253      gti        gti ... dl3_LST-1.Run07253.fits               GTI 148884480\n",
       "  7253 pointing   pointing ... dl3_LST-1.Run07253.fits          POINTING 148884480\n",
       "  7253     aeff    aeff_2d ... dl3_LST-1.Run07253.fits    EFFECTIVE AREA 148884480\n",
       "  7253    edisp   edisp_2d ... dl3_LST-1.Run07253.fits ENERGY DISPERSION 148884480\n",
       "  7253  rad_max rad_max_2d ... dl3_LST-1.Run07253.fits           RAD_MAX 148884480\n",
       "   ...      ...        ... ...                     ...               ...       ...\n",
       "  7276  rad_max rad_max_2d ... dl3_LST-1.Run07276.fits           RAD_MAX  35602560\n",
       "  7277   events     events ... dl3_pulsar_7277.fits.gz            EVENTS  88323840\n",
       "  7277      gti        gti ... dl3_LST-1.Run07277.fits               GTI  88323840\n",
       "  7277 pointing   pointing ... dl3_LST-1.Run07277.fits          POINTING  88323840\n",
       "  7277     aeff    aeff_2d ... dl3_LST-1.Run07277.fits    EFFECTIVE AREA  88323840\n",
       "  7277    edisp   edisp_2d ... dl3_LST-1.Run07277.fits ENERGY DISPERSION  88323840\n",
       "  7277  rad_max rad_max_2d ... dl3_LST-1.Run07277.fits           RAD_MAX  88323840"
      ]
     },
     "execution_count": 95,
     "metadata": {},
     "output_type": "execute_result"
    }
   ],
   "source": [
    "new_hdu"
   ]
  },
  {
   "cell_type": "code",
   "execution_count": 96,
   "id": "8b8aa5d8-dce6-4ebc-bf4e-959100e0db7b",
   "metadata": {},
   "outputs": [],
   "source": [
    "new_hdu.write(\n",
    "    datastore_dir + \"hdu-index-pulsar.fits.gz\", format=\"fits\", overwrite=True\n",
    ")"
   ]
  },
  {
   "cell_type": "code",
   "execution_count": 98,
   "id": "920ab2e2-b075-4793-bab6-aa8d47f2fac5",
   "metadata": {},
   "outputs": [
    {
     "data": {
      "text/plain": [
       "\u001b[0;31mSignature:\u001b[0m\n",
       "\u001b[0mnew_obs\u001b[0m\u001b[0;34m.\u001b[0m\u001b[0mwrite\u001b[0m\u001b[0;34m(\u001b[0m\u001b[0;34m\u001b[0m\n",
       "\u001b[0;34m\u001b[0m    \u001b[0mpath\u001b[0m\u001b[0;34m,\u001b[0m\u001b[0;34m\u001b[0m\n",
       "\u001b[0;34m\u001b[0m    \u001b[0moverwrite\u001b[0m\u001b[0;34m=\u001b[0m\u001b[0;32mFalse\u001b[0m\u001b[0;34m,\u001b[0m\u001b[0;34m\u001b[0m\n",
       "\u001b[0;34m\u001b[0m    \u001b[0mformat\u001b[0m\u001b[0;34m=\u001b[0m\u001b[0;34m'gadf'\u001b[0m\u001b[0;34m,\u001b[0m\u001b[0;34m\u001b[0m\n",
       "\u001b[0;34m\u001b[0m    \u001b[0minclude_irfs\u001b[0m\u001b[0;34m=\u001b[0m\u001b[0;32mTrue\u001b[0m\u001b[0;34m,\u001b[0m\u001b[0;34m\u001b[0m\n",
       "\u001b[0;34m\u001b[0m    \u001b[0mchecksum\u001b[0m\u001b[0;34m=\u001b[0m\u001b[0;32mFalse\u001b[0m\u001b[0;34m,\u001b[0m\u001b[0;34m\u001b[0m\n",
       "\u001b[0;34m\u001b[0m\u001b[0;34m)\u001b[0m\u001b[0;34m\u001b[0m\u001b[0;34m\u001b[0m\u001b[0m\n",
       "\u001b[0;31mDocstring:\u001b[0m\n",
       "Write this observation into `~pathlib.Path` using the specified format.\n",
       "\n",
       "Parameters\n",
       "----------\n",
       "path : str or `~pathlib.Path`\n",
       "    Path for the output file.\n",
       "overwrite : bool, optional\n",
       "    Overwrite existing file. Default is False.\n",
       "format : {\"gadf\"}\n",
       "    Output format, currently only \"gadf\" is supported. Default is \"gadf\".\n",
       "include_irfs : bool, optional\n",
       "    Whether to include irf components in the output file. Default is True.\n",
       "checksum : bool, optional\n",
       "    When True adds both DATASUM and CHECKSUM cards to the headers written to the file.\n",
       "    Default is False.\n",
       "\u001b[0;31mFile:\u001b[0m      ~/anaconda3/envs/gammapy-1.2/lib/python3.10/site-packages/gammapy/data/observations.py\n",
       "\u001b[0;31mType:\u001b[0m      method"
      ]
     },
     "metadata": {},
     "output_type": "display_data"
    }
   ],
   "source": [
    "new_obs.write?"
   ]
  },
  {
   "cell_type": "code",
   "execution_count": null,
   "id": "a9c1ce6e-7105-47a9-aaa7-a959ade447aa",
   "metadata": {},
   "outputs": [],
   "source": []
  }
 ],
 "metadata": {
  "kernelspec": {
   "display_name": "Python 3 (ipykernel)",
   "language": "python",
   "name": "python3"
  },
  "language_info": {
   "codemirror_mode": {
    "name": "ipython",
    "version": 3
   },
   "file_extension": ".py",
   "mimetype": "text/x-python",
   "name": "python",
   "nbconvert_exporter": "python",
   "pygments_lexer": "ipython3",
   "version": "3.10.13"
  }
 },
 "nbformat": 4,
 "nbformat_minor": 5
}
