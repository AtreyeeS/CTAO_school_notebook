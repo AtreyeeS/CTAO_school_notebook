{
 "cells": [
  {
   "cell_type": "markdown",
   "id": "88e65f38-949d-49ea-846f-a9b38b92b0c2",
   "metadata": {},
   "source": [
    "# Open problem 2a\n",
    "\n",
    "Simulate a source with an extended morphology (for example, a Gaussian spatial extensions with size 0.5°) and a powerlaw spectral shape ($\\Gamma=2$, amplitude=$10^{-13}$ cm$^{-2}$ s$^{-1}$ TeV$^{-1}$ at 1 TeV). Determine then minimum exposure time needed to constrain the extension of the source to better than 10%; for simplicity, consider a FoV dimension of $2.5°\\times2.5°$ and fix the source coordinates when fitting the model to the sampled data.\n"
   ]
  },
  {
   "cell_type": "markdown",
   "id": "84a46e0a-9819-420f-8f49-a473d398cd13",
   "metadata": {},
   "source": [
    "Let's simulate the source and then fit its properties with the model used for the simulation."
   ]
  },
  {
   "cell_type": "code",
   "execution_count": 1,
   "id": "4a83cfaa-678c-4995-9fe3-665fc591cb59",
   "metadata": {},
   "outputs": [],
   "source": [
    "import matplotlib.pyplot as plt\n",
    "\n",
    "from pathlib import Path\n",
    "import time\n",
    "import numpy as np\n",
    "import threading\n",
    "import astropy.units as u\n",
    "from astropy.coordinates import Angle, SkyCoord\n",
    "from astropy.io import fits\n",
    "from astropy.time import Time\n",
    "from regions import CircleSkyRegion, PointSkyRegion\n",
    "from gammapy.data import Observation, observatory_locations, FixedPointingInfo, PointingMode\n",
    "from gammapy.datasets import MapDataset, MapDatasetEventSampler\n",
    "from gammapy.irf import load_irf_dict_from_file\n",
    "from gammapy.makers import MapDatasetMaker\n",
    "from gammapy.maps import MapAxis, RegionNDMap, WcsGeom, Map\n",
    "from gammapy.modeling import Fit\n",
    "from gammapy.modeling.models import (\n",
    "    ConstantSpectralModel,\n",
    "    FoVBackgroundModel,\n",
    "    LightCurveTemplateTemporalModel,\n",
    "    GaussianSpatialModel,\n",
    "    GaussianTemporalModel,\n",
    "    ConstantTemporalModel,\n",
    "    ExpDecayTemporalModel,\n",
    "    PointSpatialModel,\n",
    "    PowerLawSpectralModel,\n",
    "    SkyModel,\n",
    "    Models\n",
    ")"
   ]
  },
  {
   "cell_type": "code",
   "execution_count": 2,
   "id": "fe5d4d24-249e-4343-817c-f7efaa20342e",
   "metadata": {},
   "outputs": [],
   "source": [
    "import warnings\n",
    "warnings.filterwarnings('ignore', category=RuntimeWarning, append=True)"
   ]
  },
  {
   "cell_type": "code",
   "execution_count": 3,
   "id": "9d437784-cc1e-4ad0-a4e1-9e2fa1bdc0b6",
   "metadata": {},
   "outputs": [],
   "source": [
    "# let's create the source sky-model plus the background:\n",
    "\n",
    "target = SkyCoord(\"335 deg\", \"33 deg\", unit=\"deg\", frame=\"icrs\")\n",
    "spatial_model = model = GaussianSpatialModel(\n",
    "                            lon_0=\"335 deg\",\n",
    "                            lat_0=\"33 deg\",\n",
    "                            sigma=\"0.5 deg\",\n",
    "                            frame=\"icrs\",\n",
    "                            )\n",
    "\n",
    "spectral_model = PowerLawSpectralModel(index=2, amplitude=\"1e-13 cm-2 s-1 TeV-1\", reference=\"1 TeV\")\n",
    "\n",
    "temporal_model = ConstantTemporalModel(const=1)"
   ]
  },
  {
   "cell_type": "code",
   "execution_count": 4,
   "id": "60395873-d045-4dcb-ae4a-47cb876ac582",
   "metadata": {},
   "outputs": [
    {
     "name": "stdout",
     "output_type": "stream",
     "text": [
      "Models\n",
      "\n",
      "Component 0: SkyModel\n",
      "\n",
      "  Name                      : fake_src\n",
      "  Datasets names            : None\n",
      "  Spectral model type       : PowerLawSpectralModel\n",
      "  Spatial  model type       : GaussianSpatialModel\n",
      "  Temporal model type       : ConstantTemporalModel\n",
      "  Parameters:\n",
      "    index                         :      2.000   +/-    0.00             \n",
      "    amplitude                     :   1.00e-13   +/- 0.0e+00 1 / (TeV s cm2)\n",
      "    reference             (frozen):      1.000       TeV         \n",
      "    lon_0                         :    335.000   +/-    0.00 deg         \n",
      "    lat_0                         :     33.000   +/-    0.00 deg         \n",
      "    sigma                         :      0.500   +/-    0.00 deg         \n",
      "    e                     (frozen):      0.000                   \n",
      "    phi                   (frozen):      0.000       deg         \n",
      "\n",
      "Component 1: FoVBackgroundModel\n",
      "\n",
      "  Name                      : my-dataset-bkg\n",
      "  Datasets names            : ['my-dataset']\n",
      "  Spectral model type       : PowerLawNormSpectralModel\n",
      "  Parameters:\n",
      "    norm                          :      1.000   +/-    0.00             \n",
      "    tilt                  (frozen):      0.000                   \n",
      "    reference             (frozen):      1.000       TeV         \n",
      "\n",
      "\n"
     ]
    }
   ],
   "source": [
    "source_model = SkyModel(spectral_model = spectral_model,\n",
    "                       spatial_model = spatial_model,\n",
    "                       temporal_model = temporal_model,\n",
    "                       name = \"fake_src\")\n",
    "\n",
    "bkg = FoVBackgroundModel(dataset_name=\"my-dataset\")\n",
    "\n",
    "full_model = Models([source_model, bkg])\n",
    "mod = full_model.copy()\n",
    "\n",
    "print(full_model)"
   ]
  },
  {
   "cell_type": "code",
   "execution_count": 5,
   "id": "2851845d-e311-41c6-9385-4d4b108b305e",
   "metadata": {},
   "outputs": [],
   "source": [
    "# let's create the observation and the dataset\n",
    "\n",
    "energy_axis = MapAxis.from_energy_bounds(\"0.01 TeV\", \"150 TeV\",\n",
    "                                         nbin=10, per_decade=True)\n",
    "energy_axis_true = MapAxis.from_energy_bounds(\"0.001 TeV\", \"250 TeV\", \n",
    "                                         nbin=10, per_decade=True, \n",
    "                                         name=\"energy_true\")\n"
   ]
  },
  {
   "cell_type": "code",
   "execution_count": 6,
   "id": "ed48b916-5b98-494a-b88a-9f2605325355",
   "metadata": {},
   "outputs": [],
   "source": [
    "# let's set the pointing coordinates\n",
    "pointing = target.directional_offset_by(position_angle = 0 * u.deg, separation = 0.5 * u.deg)"
   ]
  },
  {
   "cell_type": "code",
   "execution_count": 7,
   "id": "175c8571-47ed-4b70-b312-220f9c0c1b5a",
   "metadata": {},
   "outputs": [],
   "source": [
    "# let's load the IRF:\n",
    "path = \"../CALDB/CTA-Performance-prod5-v0.1-South-20deg/Prod5-South-20deg-AverageAz-14MSTs37SSTs.180000s-v0.1.fits.gz\"\n",
    "irf = load_irf_dict_from_file(path)"
   ]
  },
  {
   "cell_type": "code",
   "execution_count": 8,
   "id": "712337dd-956d-4bad-9eb4-eb0e8924d0b4",
   "metadata": {},
   "outputs": [],
   "source": [
    "# let's define the geometry:\n",
    "geom = WcsGeom.create(\n",
    "            skydir=pointing,\n",
    "            width=(2.5, 2.5), #deg\n",
    "            binsz=0.02, #deg\n",
    "            frame=\"icrs\",\n",
    "            axes=[energy_axis],\n",
    "            )\n",
    "\n",
    "# set a migra axis only if you want simulate DL3 events\n",
    "#migra_axis = MapAxis.from_bounds(0.5, 2, nbin=150, node_type=\"edges\", name=\"migra\")\n",
    "empty = MapDataset.create(\n",
    "            geom,\n",
    "            energy_axis_true=energy_axis_true,\n",
    "            #migra_axis=migra_axis,\n",
    "            name=\"my-dataset\",\n",
    "            )"
   ]
  },
  {
   "cell_type": "code",
   "execution_count": 9,
   "id": "4632a9aa-cf24-42d5-bb09-968dfa0e49b5",
   "metadata": {},
   "outputs": [
    {
     "name": "stdout",
     "output_type": "stream",
     "text": [
      "Simulation for exposure: 0.5 h\n"
     ]
    },
    {
     "name": "stderr",
     "output_type": "stream",
     "text": [
      "/Users/fabiopintore/opt/anaconda3/envs/gammapy-1.2/lib/python3.10/site-packages/gammapy/data/observations.py:281: GammapyDeprecationWarning: Pointing will be required to be provided as FixedPointingInfo\n",
      "  warnings.warn(\n"
     ]
    },
    {
     "name": "stdout",
     "output_type": "stream",
     "text": [
      "OptimizeResult\n",
      "\n",
      "\tbackend    : minuit\n",
      "\tmethod     : migrad\n",
      "\tsuccess    : True\n",
      "\tmessage    : Optimization terminated successfully, but uncertainties are unreliable.\n",
      "\tnfev       : 493\n",
      "\ttotal stat : 165863.14\n",
      "\n",
      "CovarianceResult\n",
      "\n",
      "\tbackend    : minuit\n",
      "\tmethod     : hesse\n",
      "\tsuccess    : True\n",
      "\tmessage    : Hesse terminated successfully.\n",
      "\n",
      "Simulation for exposure: 1.0 h\n"
     ]
    },
    {
     "name": "stderr",
     "output_type": "stream",
     "text": [
      "/Users/fabiopintore/opt/anaconda3/envs/gammapy-1.2/lib/python3.10/site-packages/gammapy/data/observations.py:281: GammapyDeprecationWarning: Pointing will be required to be provided as FixedPointingInfo\n",
      "  warnings.warn(\n"
     ]
    },
    {
     "name": "stdout",
     "output_type": "stream",
     "text": [
      "OptimizeResult\n",
      "\n",
      "\tbackend    : minuit\n",
      "\tmethod     : migrad\n",
      "\tsuccess    : False\n",
      "\tmessage    : Optimization failed. Estimated distance to minimum too large.\n",
      "\tnfev       : 641\n",
      "\ttotal stat : 240033.73\n",
      "\n",
      "CovarianceResult\n",
      "\n",
      "\tbackend    : minuit\n",
      "\tmethod     : hesse\n",
      "\tsuccess    : True\n",
      "\tmessage    : Hesse terminated successfully.\n",
      "\n",
      "Simulation for exposure: 2.0 h\n"
     ]
    },
    {
     "name": "stderr",
     "output_type": "stream",
     "text": [
      "/Users/fabiopintore/opt/anaconda3/envs/gammapy-1.2/lib/python3.10/site-packages/gammapy/data/observations.py:281: GammapyDeprecationWarning: Pointing will be required to be provided as FixedPointingInfo\n",
      "  warnings.warn(\n"
     ]
    },
    {
     "name": "stdout",
     "output_type": "stream",
     "text": [
      "OptimizeResult\n",
      "\n",
      "\tbackend    : minuit\n",
      "\tmethod     : migrad\n",
      "\tsuccess    : True\n",
      "\tmessage    : Optimization terminated successfully, but uncertainties are unreliable.\n",
      "\tnfev       : 331\n",
      "\ttotal stat : 298953.27\n",
      "\n",
      "CovarianceResult\n",
      "\n",
      "\tbackend    : minuit\n",
      "\tmethod     : hesse\n",
      "\tsuccess    : True\n",
      "\tmessage    : Hesse terminated successfully.\n",
      "\n",
      "Simulation for exposure: 5.0 h\n"
     ]
    },
    {
     "name": "stderr",
     "output_type": "stream",
     "text": [
      "/Users/fabiopintore/opt/anaconda3/envs/gammapy-1.2/lib/python3.10/site-packages/gammapy/data/observations.py:281: GammapyDeprecationWarning: Pointing will be required to be provided as FixedPointingInfo\n",
      "  warnings.warn(\n"
     ]
    },
    {
     "name": "stdout",
     "output_type": "stream",
     "text": [
      "OptimizeResult\n",
      "\n",
      "\tbackend    : minuit\n",
      "\tmethod     : migrad\n",
      "\tsuccess    : True\n",
      "\tmessage    : Optimization terminated successfully, but uncertainties are unreliable.\n",
      "\tnfev       : 195\n",
      "\ttotal stat : 148576.89\n",
      "\n",
      "CovarianceResult\n",
      "\n",
      "\tbackend    : minuit\n",
      "\tmethod     : hesse\n",
      "\tsuccess    : True\n",
      "\tmessage    : Hesse terminated successfully.\n",
      "\n",
      "Simulation for exposure: 10.0 h\n"
     ]
    },
    {
     "name": "stderr",
     "output_type": "stream",
     "text": [
      "/Users/fabiopintore/opt/anaconda3/envs/gammapy-1.2/lib/python3.10/site-packages/gammapy/data/observations.py:281: GammapyDeprecationWarning: Pointing will be required to be provided as FixedPointingInfo\n",
      "  warnings.warn(\n"
     ]
    },
    {
     "name": "stdout",
     "output_type": "stream",
     "text": [
      "OptimizeResult\n",
      "\n",
      "\tbackend    : minuit\n",
      "\tmethod     : migrad\n",
      "\tsuccess    : False\n",
      "\tmessage    : Optimization failed. Estimated distance to minimum too large.\n",
      "\tnfev       : 407\n",
      "\ttotal stat : -609668.48\n",
      "\n",
      "CovarianceResult\n",
      "\n",
      "\tbackend    : minuit\n",
      "\tmethod     : hesse\n",
      "\tsuccess    : True\n",
      "\tmessage    : Hesse terminated successfully.\n",
      "\n",
      "Simulation for exposure: 20.0 h\n"
     ]
    },
    {
     "name": "stderr",
     "output_type": "stream",
     "text": [
      "/Users/fabiopintore/opt/anaconda3/envs/gammapy-1.2/lib/python3.10/site-packages/gammapy/data/observations.py:281: GammapyDeprecationWarning: Pointing will be required to be provided as FixedPointingInfo\n",
      "  warnings.warn(\n"
     ]
    },
    {
     "name": "stdout",
     "output_type": "stream",
     "text": [
      "OptimizeResult\n",
      "\n",
      "\tbackend    : minuit\n",
      "\tmethod     : migrad\n",
      "\tsuccess    : False\n",
      "\tmessage    : Optimization failed. Estimated distance to minimum too large.\n",
      "\tnfev       : 513\n",
      "\ttotal stat : -3019449.88\n",
      "\n",
      "CovarianceResult\n",
      "\n",
      "\tbackend    : minuit\n",
      "\tmethod     : hesse\n",
      "\tsuccess    : True\n",
      "\tmessage    : Hesse terminated successfully.\n",
      "\n",
      "Simulation for exposure: 50.0 h\n"
     ]
    },
    {
     "name": "stderr",
     "output_type": "stream",
     "text": [
      "/Users/fabiopintore/opt/anaconda3/envs/gammapy-1.2/lib/python3.10/site-packages/gammapy/data/observations.py:281: GammapyDeprecationWarning: Pointing will be required to be provided as FixedPointingInfo\n",
      "  warnings.warn(\n"
     ]
    },
    {
     "name": "stdout",
     "output_type": "stream",
     "text": [
      "OptimizeResult\n",
      "\n",
      "\tbackend    : minuit\n",
      "\tmethod     : migrad\n",
      "\tsuccess    : False\n",
      "\tmessage    : Optimization failed. Call limit was reached.\n",
      "\tnfev       : 684\n",
      "\ttotal stat : -13525869.31\n",
      "\n",
      "CovarianceResult\n",
      "\n",
      "\tbackend    : minuit\n",
      "\tmethod     : hesse\n",
      "\tsuccess    : True\n",
      "\tmessage    : Hesse terminated successfully.\n",
      "\n",
      "Simulation for exposure: 100.0 h\n"
     ]
    },
    {
     "name": "stderr",
     "output_type": "stream",
     "text": [
      "/Users/fabiopintore/opt/anaconda3/envs/gammapy-1.2/lib/python3.10/site-packages/gammapy/data/observations.py:281: GammapyDeprecationWarning: Pointing will be required to be provided as FixedPointingInfo\n",
      "  warnings.warn(\n"
     ]
    },
    {
     "name": "stdout",
     "output_type": "stream",
     "text": [
      "OptimizeResult\n",
      "\n",
      "\tbackend    : minuit\n",
      "\tmethod     : migrad\n",
      "\tsuccess    : False\n",
      "\tmessage    : Optimization failed. Estimated distance to minimum too large.\n",
      "\tnfev       : 332\n",
      "\ttotal stat : -36112081.75\n",
      "\n",
      "CovarianceResult\n",
      "\n",
      "\tbackend    : minuit\n",
      "\tmethod     : hesse\n",
      "\tsuccess    : True\n",
      "\tmessage    : Hesse terminated successfully.\n",
      "\n"
     ]
    }
   ],
   "source": [
    "# let's loop over the exposure times, fit the sampled events \n",
    "# and estimate the best-fit sizes:\n",
    "\n",
    "time_ref = Time(\"2024-06-25T00:00:00\", format=\"isot\", scale=\"utc\")\n",
    "\n",
    "livetime = [0.5, 1, 2, 5, 10, 20, 50, 100] * u.hr\n",
    "\n",
    "sigmas, errors = [], []\n",
    "for exp in livetime:\n",
    "    print(f\"Simulation for exposure: {exp}\")\n",
    "    observation = Observation.create(\n",
    "                obs_id=\"0001\",\n",
    "                pointing=pointing,\n",
    "                livetime=exp,\n",
    "                irfs=irf,\n",
    "                reference_time=time_ref,\n",
    "                )\n",
    "    maker = MapDatasetMaker(selection=[\"exposure\", \"background\", \"psf\", \"edisp\"])\n",
    "    dataset = maker.run(empty, observation)\n",
    "\n",
    "    dataset.models = mod\n",
    "\n",
    "# if you want to perform the simulation with MapDatasetEventSampler\n",
    "#    sampler = MapDatasetEventSampler(random_state=0)\n",
    "#    events = sampler.run(dataset, observation)\n",
    "#    counts = Map.from_geom(geom)\n",
    "#    counts.fill_events(events)\n",
    "#    dataset.counts = counts\n",
    "\n",
    "    dataset.fake()\n",
    "\n",
    "    dataset.models.parameters[\"lon_0\"].frozen = True\n",
    "    dataset.models.parameters[\"lat_0\"].frozen = True\n",
    "\n",
    "    fit = Fit()\n",
    "    minuit_opts = {\"strategy\": 2}\n",
    "    fit.backend = \"minuit\"\n",
    "    fit.optimize_opts = minuit_opts\n",
    "    result = fit.run(dataset)\n",
    "    sigmas.append(result.models[0].spatial_model.sigma.value)\n",
    "    errors.append(result.models[0].spatial_model.sigma.error)\n",
    "    print(result)"
   ]
  },
  {
   "cell_type": "markdown",
   "id": "82745d93-dd68-46f7-acb1-c8e1865bce92",
   "metadata": {},
   "source": [
    "Let's plot our results as a function of the exposure time:"
   ]
  },
  {
   "cell_type": "code",
   "execution_count": 10,
   "id": "d1b77ee6-a28b-4beb-8d03-c2702194e3b3",
   "metadata": {},
   "outputs": [
    {
     "data": {
      "text/plain": [
       "Text(0.5, 1.0, 'Constrain on the source extension')"
      ]
     },
     "execution_count": 10,
     "metadata": {},
     "output_type": "execute_result"
    },
    {
     "data": {
      "image/png": "[encoded data removed]",
      "text/plain": [
       "<Figure size 640x480 with 1 Axes>"
      ]
     },
     "metadata": {},
     "output_type": "display_data"
    }
   ],
   "source": [
    "plt.plot(livetime, np.array(errors) / np.array(sigmas), \"o\")\n",
    "plt.plot(livetime, np.ones_like(livetime)*0.10)\n",
    "plt.loglog()\n",
    "plt.xlabel(\"Exposure (hr)\")\n",
    "plt.ylabel(\"Rel. uncertainty (%)\")\n",
    "plt.title(\"Constrain on the source extension\")"
   ]
  },
  {
   "cell_type": "code",
   "execution_count": null,
   "id": "433f0085-0ce2-42f1-9c79-83dc2f7dac49",
   "metadata": {},
   "outputs": [],
   "source": []
  }
 ],
 "metadata": {
  "kernelspec": {
   "display_name": "Python 3 (ipykernel)",
   "language": "python",
   "name": "python3"
  },
  "language_info": {
   "codemirror_mode": {
    "name": "ipython",
    "version": 3
   },
   "file_extension": ".py",
   "mimetype": "text/x-python",
   "name": "python",
   "nbconvert_exporter": "python",
   "pygments_lexer": "ipython3",
   "version": "3.10.13"
  }
 },
 "nbformat": 4,
 "nbformat_minor": 5
}
