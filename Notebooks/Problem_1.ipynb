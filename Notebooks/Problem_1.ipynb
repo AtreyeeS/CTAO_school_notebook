{
 "cells": [
  {
   "cell_type": "markdown",
   "id": "0ae63390-8d9b-4047-b73a-e8c157bfafda",
   "metadata": {},
   "source": [
    "# OPEN PROBLEM: Lightcurve analysis"
   ]
  },
  {
   "cell_type": "markdown",
   "id": "7ce2fecc-55b3-40a0-9ada-9c7b6c029169",
   "metadata": {},
   "source": [
    "We select a subsample of observations from the internal CTAO SDC of the source MRK 421. This is a time-varying source and the aim of this tutorial is to build a lightcurve with the available data.\n",
    "\n",
    "1) Let's start with the basic imports:"
   ]
  },
  {
   "cell_type": "code",
   "execution_count": 1,
   "id": "30f6c390-0184-4fa5-877c-2f8fa2253fa6",
   "metadata": {
    "tags": []
   },
   "outputs": [],
   "source": [
    "import matplotlib.pyplot as plt\n",
    "\n",
    "import numpy as np\n",
    "import astropy.units as u\n",
    "from astropy.coordinates import Angle, SkyCoord\n",
    "from astropy.time import Time\n",
    "from regions import CircleSkyRegion\n",
    "from gammapy.data import (\n",
    "    DataStore,\n",
    "    Observation,\n",
    "    Observations,\n",
    ")\n",
    "from gammapy.datasets import MapDataset, Datasets, SpectrumDataset\n",
    "from gammapy.estimators import LightCurveEstimator\n",
    "from gammapy.estimators.utils import get_rebinned_axis\n",
    "from gammapy.makers import (\n",
    "    MapDatasetMaker,\n",
    "    ReflectedRegionsBackgroundMaker,\n",
    "    SafeMaskMaker,\n",
    "    SpectrumDatasetMaker,\n",
    "    FoVBackgroundMaker\n",
    ")\n",
    "from gammapy.maps import MapAxis, WcsGeom, RegionGeom\n",
    "from gammapy.modeling.models import (\n",
    "    Models,\n",
    "    PowerLawSpectralModel,\n",
    "    SkyModel,\n",
    ")"
   ]
  },
  {
   "cell_type": "markdown",
   "id": "1dc321f8-16ae-491e-ae73-31da3641350d",
   "metadata": {},
   "source": [
    "2) Select all the observations from the index flies, using the `DataStore` class, and pick only observations enclosed into a search cone of 5 degrees around the given pointing position:"
   ]
  },
  {
   "cell_type": "code",
   "execution_count": 3,
   "id": "24083395-76c0-46ea-a756-9299fdb0527e",
   "metadata": {},
   "outputs": [],
   "source": [
    "data_store = "
   ]
  },
  {
   "cell_type": "markdown",
   "id": "50be48c4-361d-461d-8860-a0bb4afa1e61",
   "metadata": {},
   "source": [
    "3) Define the target position (ra, dec = 166.113808°, 38.2088329°) and the pointing direction (consider an offset of 0.5° with respect to the target position):"
   ]
  },
  {
   "cell_type": "code",
   "execution_count": 4,
   "id": "c8574ff0-e361-4f2e-acf3-9fd8947472d8",
   "metadata": {},
   "outputs": [],
   "source": [
    "#source coordinates\n",
    "target = \n",
    "\n",
    "#pointing coordinates\n",
    "pointing = "
   ]
  },
  {
   "cell_type": "markdown",
   "id": "cd39f3bb-d6df-4ceb-9584-2b51f2c8875a",
   "metadata": {},
   "source": [
    "4) Create the dictionary for the observation selection as in the 3D analysis notebook, and pick them with the `select_observation` function of `DataStore`:"
   ]
  },
  {
   "cell_type": "code",
   "execution_count": 5,
   "id": "bb0d4288-df66-4d3d-b5c7-087873186abe",
   "metadata": {},
   "outputs": [],
   "source": [
    "selection = \n",
    "\n",
    "selected_obs_table = "
   ]
  },
  {
   "cell_type": "markdown",
   "id": "f8e9fc1f-0139-4ce1-b4fb-9110a1a3f886",
   "metadata": {},
   "source": [
    "5) Take a subsample of the first 50 observations.\n",
    "Use them with the `get_observations` function:"
   ]
  },
  {
   "cell_type": "code",
   "execution_count": null,
   "id": "6516634a-de3a-41c7-a2f6-6c77916641db",
   "metadata": {},
   "outputs": [],
   "source": [
    "selected_obs_table =  \n",
    "\n",
    "observations = \n",
    "\n",
    "print(f\"Selected observations: {len(observations)}\")\n",
    "print(f\"\\n\\nLet's have a look at the first observation \\n\\n: {observations[0]}\")"
   ]
  },
  {
   "cell_type": "markdown",
   "id": "dd5c4908-757a-4ad3-a710-0b6cb818e57b",
   "metadata": {},
   "source": [
    "6) Create the exclusion mask around the source region, as in the 3D analysis notebook:"
   ]
  },
  {
   "cell_type": "code",
   "execution_count": null,
   "id": "5e50ab9f-cbe2-41a0-a87f-c49a3a0e1b68",
   "metadata": {},
   "outputs": [],
   "source": [
    "exclusion_geom = \n",
    "\n",
    "exclusion_src1 = \n",
    "\n",
    "exclusion_mask = \n",
    "\n",
    "exclusion_mask.plot()\n",
    "plt.show()"
   ]
  },
  {
   "cell_type": "markdown",
   "id": "09325626-8bf5-4970-8cd1-7dc4e68ae228",
   "metadata": {},
   "source": [
    "7) Define the reconstructed and true energy axes (with `MapAxis`) and the geometry (with `WcsGeom.create`), as in the 3D analysis notebook:"
   ]
  },
  {
   "cell_type": "code",
   "execution_count": 8,
   "id": "8a27b1db-aef1-4f00-84ee-8a33fb670193",
   "metadata": {},
   "outputs": [],
   "source": [
    "energy_axis = \n",
    "\n",
    "energy_axis_true = \n",
    "\n",
    "geom = "
   ]
  },
  {
   "cell_type": "markdown",
   "id": "e35b900c-8f41-4c44-a5db-b0c0aef26306",
   "metadata": {},
   "source": [
    "8) Create the MapDataset:"
   ]
  },
  {
   "cell_type": "code",
   "execution_count": 9,
   "id": "19434e2e-1d6a-42b3-928a-0efb6957fc1a",
   "metadata": {},
   "outputs": [],
   "source": [
    "stacked = "
   ]
  },
  {
   "cell_type": "markdown",
   "id": "20b52f9b-d600-442d-8a3d-d2e6b263528d",
   "metadata": {},
   "source": [
    "9) Set the safe ranges with `MapDatasetMaker`, `SafeMaksMaker` and `FoVBackgroundMaker`:"
   ]
  },
  {
   "cell_type": "code",
   "execution_count": 10,
   "id": "b621174a-4666-4cf9-a6fe-4f6e877a28dc",
   "metadata": {},
   "outputs": [],
   "source": [
    "offset_max = \n",
    "maker = \n",
    "maker_safe_mask = \n",
    "\n",
    "maker_fov = "
   ]
  },
  {
   "cell_type": "markdown",
   "id": "b8fad824-053a-48ff-bbb7-6aecab663446",
   "metadata": {},
   "source": [
    "10) Loop over the observations to stack the datasets:"
   ]
  },
  {
   "cell_type": "code",
   "execution_count": null,
   "id": "a3ed0be2-a2b6-4d5b-bc91-3e1953d122be",
   "metadata": {},
   "outputs": [],
   "source": [
    "for i, obs in enumerate(observations):\n",
    "    # First a cutout of the target map is produced\n",
    "    cutout = \n",
    "    \n",
    "    # A MapDataset is filled in this cutout geometry\n",
    "    dataset = \n",
    "    \n",
    "    # The data quality cut is applied\n",
    "    dataset = \n",
    "    \n",
    "    # fit background model\n",
    "    dataset = \n",
    "    \n",
    "    print(\n",
    "        f\"{i} of {len(observations)}, Background norm obs {obs.obs_id}: {dataset.background_model.spectral_model.norm.value:.2f}\"\n",
    "    )\n",
    "    # The resulting dataset cutout is stacked onto the final one\n",
    "    stacked.stack...\n",
    "\n",
    "print(stacked)"
   ]
  },
  {
   "cell_type": "markdown",
   "id": "61b13665-9723-4439-a7d4-696040144b13",
   "metadata": {},
   "source": [
    "11) Make a counts map:"
   ]
  },
  {
   "cell_type": "code",
   "execution_count": null,
   "id": "72542ba0-69f5-4e67-9e1e-29f625b87b85",
   "metadata": {},
   "outputs": [],
   "source": []
  },
  {
   "cell_type": "markdown",
   "id": "6fe47725-1bd0-4a8d-b621-4368ecaf2b3c",
   "metadata": {},
   "source": [
    "# Make a lightcurve\n",
    "\n",
    "12) To build a lightcurve, you should firstly define the time bin where the lightcurve has to be estimated. We give you the hints on how to create them but, please, for more details look at the Gammapy tutorial:"
   ]
  },
  {
   "cell_type": "code",
   "execution_count": 13,
   "id": "c98f2981-77e6-4a97-b321-e1f090e91c8d",
   "metadata": {},
   "outputs": [],
   "source": [
    "# define the time intervals, splitting the full observation time range in bins of 2 hr:\n",
    "t0 = observations[0].tstart\n",
    "tstop = observations[-1].tstop\n",
    "duration =  #choose a good duration with units\n",
    "n_time_bins = int( ((tstop-t0)).to(\"s\") / duration) + 10\n",
    "times = t0 + np.arange(n_time_bins) * duration\n",
    "time_intervals = [Time([tstart, tstop]) for tstart, tstop in zip(times[:-1], times[1:])]"
   ]
  },
  {
   "cell_type": "markdown",
   "id": "3f7fef98-0e64-456e-9310-5cfcbb601ea0",
   "metadata": {},
   "source": [
    "13) Filter all the observations that satisfy the temporal requirements using the `select_time` function:"
   ]
  },
  {
   "cell_type": "code",
   "execution_count": null,
   "id": "0e75f426-859d-4f81-b6e6-64b0be838605",
   "metadata": {},
   "outputs": [],
   "source": [
    "short_observations = \n",
    "\n",
    "# check that observations have been filtered\n",
    "print(f\"Number of observations after time filtering: {len(short_observations)}\\n\")\n",
    "print(short_observations[1].gti)"
   ]
  },
  {
   "cell_type": "markdown",
   "id": "73664fa9-f498-4e68-acfc-7b49d1fd8623",
   "metadata": {},
   "source": [
    "14) Create the energy axes (reco and true) and perform an 1D spectral analysis of the source. In this case, we will adopt the reflected region method:"
   ]
  },
  {
   "cell_type": "code",
   "execution_count": 29,
   "id": "98f34b17-04b2-47e8-ba21-e701ec57fce0",
   "metadata": {},
   "outputs": [],
   "source": [
    "# Target definition\n",
    "energy_axis = \n",
    "energy_axis_true = \n",
    "\n",
    "on_region_radius = \n",
    "on_region = \n",
    "\n",
    "geom =  "
   ]
  },
  {
   "cell_type": "markdown",
   "id": "e6414fa0-1989-4685-9c62-746c36b08d44",
   "metadata": {},
   "source": [
    "15) Set the safe ranges with the `SafeMaskMaker` class, produce the reflected regions with `ReflectedRegionsBackgroundMaker` and make the `SpectrumDataset`:"
   ]
  },
  {
   "cell_type": "code",
   "execution_count": 30,
   "id": "6792bae1-bdbf-420a-9c26-f823a72d1f98",
   "metadata": {},
   "outputs": [],
   "source": [
    "dataset_maker = \n",
    "\n",
    "bkg_maker =\n",
    "\n",
    "safe_mask_masker = "
   ]
  },
  {
   "cell_type": "markdown",
   "id": "e92a5dcb-ab88-4d25-9e5f-b80c4e066ed0",
   "metadata": {},
   "source": [
    "16) Create the `Datasets` for each observation and stack them:"
   ]
  },
  {
   "cell_type": "code",
   "execution_count": 31,
   "id": "267ad38a-9053-4aed-ada3-799892a6b79c",
   "metadata": {},
   "outputs": [],
   "source": [
    "datasets = Datasets()\n",
    "\n",
    "dataset_empty = \n",
    "\n",
    "for obs in short_observations:\n",
    "    dataset = \n",
    "\n",
    "    dataset_on_off = \n",
    "    dataset_on_off = \n",
    "    datasets.append(dataset_on_off)"
   ]
  },
  {
   "cell_type": "markdown",
   "id": "27b1d83f-8e2d-4d76-b155-e74085db2e61",
   "metadata": {},
   "source": [
    "16) Define a spectral model with `PowerLawSpectralModel`. First fit the spectral model on the global stacked dataset, then use the model as the fixed best-one."
   ]
  },
  {
   "cell_type": "code",
   "execution_count": 32,
   "id": "1c3b50bc-cd75-4a22-9e2f-e0f3faf831d4",
   "metadata": {},
   "outputs": [],
   "source": [
    "spectral_model = \n",
    "spectral_model.parameters... \n",
    "\n",
    "sky_model = "
   ]
  },
  {
   "cell_type": "markdown",
   "id": "057fb2b1-79db-4dd8-9aba-c0a76d411269",
   "metadata": {},
   "source": [
    "17) Associate the sky-model to the datasets:"
   ]
  },
  {
   "cell_type": "code",
   "execution_count": 33,
   "id": "295592e4-df9b-487c-84ad-74db8f4e4324",
   "metadata": {},
   "outputs": [],
   "source": [
    "datasets.models = sky_model"
   ]
  },
  {
   "cell_type": "code",
   "execution_count": null,
   "id": "a8ab4247-a4da-4b35-a5bf-da3c5f1966b0",
   "metadata": {},
   "outputs": [],
   "source": []
  },
  {
   "cell_type": "markdown",
   "id": "44e90182-e71f-41bc-a332-973afc23ab8a",
   "metadata": {},
   "source": [
    "18) Make the lightcurve in two energy bands. Is the source spectrally varying?\n",
    "    Make the lightcurve over the time bins defined above for `MRK 421`, using the Gammapy class `LightCurveEstimator`:"
   ]
  },
  {
   "cell_type": "code",
   "execution_count": 20,
   "id": "d9740d4b-16bd-48e1-b905-dec05904f866",
   "metadata": {},
   "outputs": [],
   "source": [
    "lc_maker_1d = \n",
    "\n",
    "lc_maker_1d.norm.scan_max = 10\n",
    "\n",
    "lc_1d = "
   ]
  },
  {
   "cell_type": "markdown",
   "id": "989688f1-05d1-4e49-84e0-149f8d20842d",
   "metadata": {},
   "source": [
    "19) Plot the lightcurve:"
   ]
  },
  {
   "cell_type": "markdown",
   "id": "503b44e1-d997-4068-b29b-288019c5d33f",
   "metadata": {},
   "source": [
    "20) Try to correct for the EBL (assuming the known redshift of MRK 421)."
   ]
  },
  {
   "cell_type": "code",
   "execution_count": null,
   "id": "2ff4cc84-65eb-4cd4-bfe1-e601a9391304",
   "metadata": {},
   "outputs": [],
   "source": []
  },
  {
   "cell_type": "markdown",
   "id": "cadf1379-da2f-479e-a11c-ed729df3e6ec",
   "metadata": {},
   "source": []
  },
  {
   "cell_type": "code",
   "execution_count": null,
   "id": "3cd0b765-846e-4ddf-854c-2ce6c301a5a1",
   "metadata": {},
   "outputs": [],
   "source": []
  }
 ],
 "metadata": {
  "kernelspec": {
   "display_name": "Python 3 (ipykernel)",
   "language": "python",
   "name": "python3"
  },
  "language_info": {
   "codemirror_mode": {
    "name": "ipython",
    "version": 3
   },
   "file_extension": ".py",
   "mimetype": "text/x-python",
   "name": "python",
   "nbconvert_exporter": "python",
   "pygments_lexer": "ipython3",
   "version": "3.10.13"
  }
 },
 "nbformat": 4,
 "nbformat_minor": 5
}
