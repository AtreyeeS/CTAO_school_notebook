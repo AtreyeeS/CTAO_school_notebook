{
 "cells": [
  {
   "cell_type": "markdown",
   "id": "88e65f38-949d-49ea-846f-a9b38b92b0c2",
   "metadata": {},
   "source": [
    "# Simulations with Gammapy"
   ]
  },
  {
   "cell_type": "markdown",
   "id": "84a46e0a-9819-420f-8f49-a473d398cd13",
   "metadata": {},
   "source": [
    "Here we show how to simulate the properties of one or more sources in a given field of view with the use of Gammapy. The basic ingredientes are:\n",
    "- a skymodel to simulate, i.e. the source properties (spectral, spatial and temporal) plus the background;\n",
    "- a dataset, which carries information on the FoV geometry, the energy range, the IRF properties and so on;\n",
    "- an observation object, which defines the exposure time, the starting time of the simulation, the pointing direction, the array configuration etc;\n",
    "\n",
    "Then we can set the simulator class and perform the event sampling on the given sky-model."
   ]
  },
  {
   "cell_type": "markdown",
   "id": "32c048cc-e551-4f78-aa4d-213777e92397",
   "metadata": {},
   "source": [
    "Let's start with some basic imports:"
   ]
  },
  {
   "cell_type": "code",
   "execution_count": 1,
   "id": "4a83cfaa-678c-4995-9fe3-665fc591cb59",
   "metadata": {},
   "outputs": [],
   "source": [
    "import matplotlib.pyplot as plt\n",
    "\n",
    "from pathlib import Path\n",
    "import time\n",
    "import numpy as np\n",
    "import threading\n",
    "import astropy.units as u\n",
    "from astropy.coordinates import Angle, SkyCoord\n",
    "from astropy.io import fits\n",
    "from astropy.time import Time\n",
    "from regions import CircleSkyRegion, PointSkyRegion\n",
    "from gammapy.data import Observation, observatory_locations, FixedPointingInfo, PointingMode\n",
    "from gammapy.datasets import MapDataset, MapDatasetEventSampler\n",
    "from gammapy.irf import load_irf_dict_from_file\n",
    "from gammapy.makers import MapDatasetMaker\n",
    "from gammapy.maps import MapAxis, RegionNDMap, WcsGeom, Map\n",
    "from gammapy.modeling.models import (\n",
    "    ConstantSpectralModel,\n",
    "    FoVBackgroundModel,\n",
    "    LightCurveTemplateTemporalModel,\n",
    "    GaussianTemporalModel,\n",
    "    ConstantTemporalModel,\n",
    "    ExpDecayTemporalModel,\n",
    "    PointSpatialModel,\n",
    "    PowerLawSpectralModel,\n",
    "    SkyModel,\n",
    "    Models\n",
    ")"
   ]
  },
  {
   "cell_type": "markdown",
   "id": "c5535ea8-4a82-4767-9992-4314d4ec31d5",
   "metadata": {},
   "source": [
    "### Creation of the sky-model\n",
    "\n",
    "First of all, we need define the source model. For simplicity, we consider a point-like source with a powerlaw spectral shape, at a random position (here Ra, Dec = 335°, 3°). We will not include temporal variability (but if you like, there are some examples in the box below..). For more models, please visit the Gammapy website at https://docs.gammapy.org/1.2/user-guide/model-gallery/index.html ."
   ]
  },
  {
   "cell_type": "code",
   "execution_count": 2,
   "id": "9d437784-cc1e-4ad0-a4e1-9e2fa1bdc0b6",
   "metadata": {},
   "outputs": [],
   "source": [
    "target = SkyCoord(\"335 deg\", \"3 deg\", unit=\"deg\", frame=\"icrs\")\n",
    "spatial_model = PointSpatialModel.from_position(target)\n",
    "\n",
    "spectral_model = PowerLawSpectralModel(index=2, amplitude=\"1e-11 cm-2 s-1 TeV-1\", reference=\"1 TeV\")\n",
    "\n",
    "### some example of temporal variability:\n",
    "#t_ref = Time(\"2024-06-25T00:00:00\", format=\"isot\", scale=\"utc\")\n",
    "#gaussian_model = GaussianTemporalModel(t_ref=t_ref.mjd * u.d, sigma=1 * u.hr)\n",
    "#temporal_model = ExpDecayTemporalModel(t_ref=t_ref.mjd * u.d, t0=1 * u.hr)\n",
    "temporal_model = ConstantTemporalModel(const=1)"
   ]
  },
  {
   "cell_type": "markdown",
   "id": "26fab7fd-0d94-4ac2-9e0a-791189a51450",
   "metadata": {},
   "source": [
    "Gammapy collects the spatial, temporal and spectral information into a single object, called `SkyModel`:"
   ]
  },
  {
   "cell_type": "code",
   "execution_count": 3,
   "id": "60395873-d045-4dcb-ae4a-47cb876ac582",
   "metadata": {},
   "outputs": [
    {
     "name": "stdout",
     "output_type": "stream",
     "text": [
      "SkyModel\n",
      "\n",
      "  Name                      : fake_src\n",
      "  Datasets names            : None\n",
      "  Spectral model type       : PowerLawSpectralModel\n",
      "  Spatial  model type       : PointSpatialModel\n",
      "  Temporal model type       : ConstantTemporalModel\n",
      "  Parameters:\n",
      "    index                         :      2.000   +/-    0.00             \n",
      "    amplitude                     :   1.00e-11   +/- 0.0e+00 1 / (TeV s cm2)\n",
      "    reference             (frozen):      1.000       TeV         \n",
      "    lon_0                         :    335.000   +/-    0.00 deg         \n",
      "    lat_0                         :      3.000   +/-    0.00 deg         \n",
      "\n",
      "\n"
     ]
    }
   ],
   "source": [
    "source_model = SkyModel(spectral_model = spectral_model,\n",
    "                        spatial_model = spatial_model,\n",
    "                        temporal_model = temporal_model,\n",
    "                        name = \"fake_src\")\n",
    "\n",
    "print(source_model)"
   ]
  },
  {
   "cell_type": "markdown",
   "id": "c8190edc-0013-4ea9-8a52-f4bea4ef626d",
   "metadata": {},
   "source": [
    "We need to include the background as well. Let's consider the model taken from the IRF:"
   ]
  },
  {
   "cell_type": "code",
   "execution_count": 4,
   "id": "c0384aa3-eb8f-47bc-b29b-d5f7fc48fc87",
   "metadata": {},
   "outputs": [],
   "source": [
    "bkg = FoVBackgroundModel(dataset_name=\"my-dataset\")"
   ]
  },
  {
   "cell_type": "markdown",
   "id": "7111d5a2-c9cd-41bf-a710-3adce5a33781",
   "metadata": {},
   "source": [
    "The full model (i.e. source plus background) can be stored into the `Models` object. It can handle a number of models!"
   ]
  },
  {
   "cell_type": "code",
   "execution_count": 5,
   "id": "d3185ced-7091-401d-8439-9f4d3e788eea",
   "metadata": {},
   "outputs": [
    {
     "name": "stdout",
     "output_type": "stream",
     "text": [
      "Models\n",
      "\n",
      "Component 0: SkyModel\n",
      "\n",
      "  Name                      : fake_src\n",
      "  Datasets names            : None\n",
      "  Spectral model type       : PowerLawSpectralModel\n",
      "  Spatial  model type       : PointSpatialModel\n",
      "  Temporal model type       : ConstantTemporalModel\n",
      "  Parameters:\n",
      "    index                         :      2.000   +/-    0.00             \n",
      "    amplitude                     :   1.00e-11   +/- 0.0e+00 1 / (TeV s cm2)\n",
      "    reference             (frozen):      1.000       TeV         \n",
      "    lon_0                         :    335.000   +/-    0.00 deg         \n",
      "    lat_0                         :      3.000   +/-    0.00 deg         \n",
      "\n",
      "Component 1: FoVBackgroundModel\n",
      "\n",
      "  Name                      : my-dataset-bkg\n",
      "  Datasets names            : ['my-dataset']\n",
      "  Spectral model type       : PowerLawNormSpectralModel\n",
      "  Parameters:\n",
      "    norm                          :      1.000   +/-    0.00             \n",
      "    tilt                  (frozen):      0.000                   \n",
      "    reference             (frozen):      1.000       TeV         \n",
      "\n",
      "\n"
     ]
    }
   ],
   "source": [
    "full_model = Models([source_model, bkg])\n",
    "\n",
    "print(full_model)"
   ]
  },
  {
   "cell_type": "markdown",
   "id": "32c3e938-8ace-4d35-82dd-23c9d026d7af",
   "metadata": {},
   "source": [
    "## Create the dataset\n",
    "\n",
    "Let's define the energy range, the pointing coordinates, the exposure time and the size of the field of view. Then we can load the IRF to be used for the simulation and we will create the observation properties:"
   ]
  },
  {
   "cell_type": "code",
   "execution_count": 6,
   "id": "2851845d-e311-41c6-9385-4d4b108b305e",
   "metadata": {},
   "outputs": [],
   "source": [
    "# reconstructed energy:\n",
    "energy_axis = MapAxis.from_energy_bounds(\"0.05 TeV\", \"150 TeV\",\n",
    "                                         nbin=5, per_decade=True)\n",
    "\n",
    "# we pass also an axis to calculate the energy dispersion:\n",
    "energy_axis_true = MapAxis.from_energy_bounds(\"0.01 TeV\", \"200 TeV\", \n",
    "                                         nbin=10, per_decade=True, \n",
    "                                         name=\"energy_true\")\n",
    "migra_axis = MapAxis.from_bounds(0.5, 2, nbin=150, node_type=\"edges\", name=\"migra\")"
   ]
  },
  {
   "cell_type": "code",
   "execution_count": 7,
   "id": "ed48b916-5b98-494a-b88a-9f2605325355",
   "metadata": {},
   "outputs": [],
   "source": [
    "# We consider an offset of 0.5° between the source and pointing positions:\n",
    "pointing = target.directional_offset_by(position_angle = 0 * u.deg, separation = 0.5 * u.deg)"
   ]
  },
  {
   "cell_type": "code",
   "execution_count": 8,
   "id": "77bb3126-4f76-4594-bb3b-d5d47dbdbffc",
   "metadata": {},
   "outputs": [],
   "source": [
    "# Let's assume an exposure time of 5 hours:\n",
    "livetime = 5 * u.hr"
   ]
  },
  {
   "cell_type": "code",
   "execution_count": 9,
   "id": "175c8571-47ed-4b70-b312-220f9c0c1b5a",
   "metadata": {},
   "outputs": [],
   "source": [
    "# Let's load an IRF for the South array:\n",
    "path = \"/Users/fabiopintore/LAVORO/CTA/1st_CTAO_SCHOOL/CTAO_school_notebook/CALDB/CTA-Performance-prod5-v0.1-South-20deg/Prod5-South-20deg-AverageAz-14MSTs37SSTs.180000s-v0.1.fits.gz\"\n",
    "irf = load_irf_dict_from_file(path)"
   ]
  },
  {
   "cell_type": "code",
   "execution_count": 10,
   "id": "712337dd-956d-4bad-9eb4-eb0e8924d0b4",
   "metadata": {},
   "outputs": [],
   "source": [
    "# We can define a FoV geometry of a square of 5° by side and a square pixel of 0.01° by side, centered \n",
    "# at the pointing position:\n",
    "\n",
    "geom = WcsGeom.create(\n",
    "            skydir=pointing,\n",
    "            width=(5, 5), #deg\n",
    "            binsz=0.01, #deg\n",
    "            frame=\"icrs\",\n",
    "            axes=[energy_axis],\n",
    "            )"
   ]
  },
  {
   "cell_type": "markdown",
   "id": "1c4cb1f4-9eb4-4fa7-9d98-2b01ecbfe56d",
   "metadata": {},
   "source": [
    "Now we can create the `Observation` object to store all the needed information for the observation. We assume that the observation starts today: "
   ]
  },
  {
   "cell_type": "code",
   "execution_count": 11,
   "id": "4632a9aa-cf24-42d5-bb09-968dfa0e49b5",
   "metadata": {},
   "outputs": [
    {
     "name": "stderr",
     "output_type": "stream",
     "text": [
      "/Users/fabiopintore/opt/anaconda3/envs/gammapy-1.2/lib/python3.10/site-packages/gammapy/data/observations.py:281: GammapyDeprecationWarning: Pointing will be required to be provided as FixedPointingInfo\n",
      "  warnings.warn(\n"
     ]
    }
   ],
   "source": [
    "time_ref = Time(\"2024-06-25T00:00:00\", format=\"isot\", scale=\"utc\")\n",
    "observation = Observation.create(\n",
    "            obs_id=\"0001\",\n",
    "            pointing=pointing,\n",
    "            livetime=livetime,\n",
    "            irfs=irf,\n",
    "            reference_time=time_ref,\n",
    "            )"
   ]
  },
  {
   "cell_type": "markdown",
   "id": "b228f845-22d3-4b21-ba6d-fe7dbd0c9aeb",
   "metadata": {},
   "source": [
    "Finally, we can create the `Dataset` object and we fill it with the full sky-model:"
   ]
  },
  {
   "cell_type": "code",
   "execution_count": 12,
   "id": "af507fda-ba55-4aa2-8df0-8332d3f6b226",
   "metadata": {},
   "outputs": [],
   "source": [
    "empty = MapDataset.create(\n",
    "            geom,\n",
    "            energy_axis_true=energy_axis_true,\n",
    "            migra_axis=migra_axis,\n",
    "            name=\"my-dataset\",\n",
    "            )\n",
    "maker = MapDatasetMaker(selection=[\"exposure\", \"background\", \"psf\", \"edisp\"])\n",
    "dataset = maker.run(empty, observation)"
   ]
  },
  {
   "cell_type": "code",
   "execution_count": 13,
   "id": "28382423-b9ed-4f7a-b7fb-0f2f5e6c9556",
   "metadata": {},
   "outputs": [],
   "source": [
    "dataset.models = full_model"
   ]
  },
  {
   "cell_type": "code",
   "execution_count": 14,
   "id": "6d40411e-d367-40a4-ba6f-5d04d2e86b78",
   "metadata": {},
   "outputs": [
    {
     "name": "stdout",
     "output_type": "stream",
     "text": [
      "MapDataset\n",
      "----------\n",
      "\n",
      "  Name                            : my-dataset \n",
      "\n",
      "  Total counts                    : 0 \n",
      "  Total background counts         : 984886.63\n",
      "  Total excess counts             : -984886.63\n",
      "\n",
      "  Predicted counts                : 993262.64\n",
      "  Predicted background counts     : 984886.63\n",
      "  Predicted excess counts         : 8376.01\n",
      "\n",
      "  Exposure min                    : 3.38e+01 m2 s\n",
      "  Exposure max                    : 7.49e+10 m2 s\n",
      "\n",
      "  Number of total bins            : 4500000 \n",
      "  Number of fit bins              : 4500000 \n",
      "\n",
      "  Fit statistic type              : cash\n",
      "  Fit statistic value (-2 log(L)) : 1986525.29\n",
      "\n",
      "  Number of models                : 2 \n",
      "  Number of parameters            : 8\n",
      "  Number of free parameters       : 5\n",
      "\n",
      "  Component 0: SkyModel\n",
      "  \n",
      "    Name                      : fake_src\n",
      "    Datasets names            : None\n",
      "    Spectral model type       : PowerLawSpectralModel\n",
      "    Spatial  model type       : PointSpatialModel\n",
      "    Temporal model type       : ConstantTemporalModel\n",
      "    Parameters:\n",
      "      index                         :      2.000   +/-    0.00             \n",
      "      amplitude                     :   1.00e-11   +/- 0.0e+00 1 / (TeV s cm2)\n",
      "      reference             (frozen):      1.000       TeV         \n",
      "      lon_0                         :    335.000   +/-    0.00 deg         \n",
      "      lat_0                         :      3.000   +/-    0.00 deg         \n",
      "  \n",
      "  Component 1: FoVBackgroundModel\n",
      "  \n",
      "    Name                      : my-dataset-bkg\n",
      "    Datasets names            : ['my-dataset']\n",
      "    Spectral model type       : PowerLawNormSpectralModel\n",
      "    Parameters:\n",
      "      norm                          :      1.000   +/-    0.00             \n",
      "      tilt                  (frozen):      0.000                   \n",
      "      reference             (frozen):      1.000       TeV         \n",
      "  \n",
      "  \n"
     ]
    }
   ],
   "source": [
    "print(dataset)"
   ]
  },
  {
   "cell_type": "markdown",
   "id": "4f756d97-7672-43f2-8caf-7213d25fcfa3",
   "metadata": {},
   "source": [
    "## Let's simulate the events:\n",
    "\n",
    "We call the `MapDatasetEventSampler` class, the core of the simulations in Gammapy, and we set a seed for the random generator. Then, we sampled the source and background events"
   ]
  },
  {
   "cell_type": "code",
   "execution_count": 15,
   "id": "ff7fa1e1-39db-4e51-87d1-930f45673e33",
   "metadata": {},
   "outputs": [
    {
     "name": "stderr",
     "output_type": "stream",
     "text": [
      "/Users/fabiopintore/opt/anaconda3/envs/gammapy-1.2/lib/python3.10/site-packages/gammapy/utils/random/inverse_cdf.py:32: RuntimeWarning: invalid value encountered in divide\n",
      "  self.cdf /= self.cdf[:, [-1]]\n",
      "The meta information will be empty here.\n"
     ]
    }
   ],
   "source": [
    "sampler = MapDatasetEventSampler(random_state=0)\n",
    "events = sampler.run(dataset, observation)"
   ]
  },
  {
   "cell_type": "code",
   "execution_count": 16,
   "id": "b603de4b-915a-4912-a369-351bc4ce4b46",
   "metadata": {},
   "outputs": [
    {
     "data": {
      "text/html": [
       "<div><i>Table length=993424</i>\n",
       "<table id=\"table5355157728\" class=\"table-striped table-bordered table-condensed\">\n",
       "<thead><tr><th>TIME</th><th>ENERGY_TRUE</th><th>RA_TRUE</th><th>DEC_TRUE</th><th>ENERGY</th><th>RA</th><th>DEC</th><th>MC_ID</th><th>EVENT_ID</th><th>DETX</th><th>DETY</th></tr></thead>\n",
       "<thead><tr><th>s</th><th>TeV</th><th>deg</th><th>deg</th><th>TeV</th><th>deg</th><th>deg</th><th></th><th></th><th>deg</th><th>deg</th></tr></thead>\n",
       "<thead><tr><th>float64</th><th>float64</th><th>float64</th><th>float64</th><th>float64</th><th>float64</th><th>float64</th><th>int64</th><th>int64</th><th>float64</th><th>float64</th></tr></thead>\n",
       "<tr><td>11635.216790040646</td><td>0.2910150134596684</td><td>335.414489366573</td><td>4.971701048938833</td><td>0.2910150134596684</td><td>335.414489366573</td><td>4.971701048938833</td><td>0</td><td>0</td><td>0.4130661510509702</td><td>1.4717922613161656</td></tr>\n",
       "<tr><td>1038.7556605764557</td><td>0.24628391629979357</td><td>336.1582949421765</td><td>2.289412885498127</td><td>0.24628391629979357</td><td>336.1582949421765</td><td>2.289412885498127</td><td>0</td><td>1</td><td>1.157628374724823</td><td>-1.2098727888040164</td></tr>\n",
       "<tr><td>7912.507241349966</td><td>0.1852079006986066</td><td>336.29046318281667</td><td>5.152837206346342</td><td>0.1852079006986066</td><td>336.29046318281667</td><td>5.152837206346342</td><td>0</td><td>2</td><td>1.2857827356594884</td><td>1.6537211359304604</td></tr>\n",
       "<tr><td>13562.247637785154</td><td>0.06284992505564654</td><td>333.18584469874173</td><td>1.9337247341421842</td><td>0.06284992505564654</td><td>333.18584469874173</td><td>1.9337247341421842</td><td>0</td><td>3</td><td>-1.8137982315771475</td><td>-1.56452239462563</td></tr>\n",
       "<tr><td>6168.931014762774</td><td>0.11372414612703906</td><td>334.9302084738923</td><td>5.2574247515365</td><td>0.11372414612703906</td><td>334.9302084738923</td><td>5.2574247515365</td><td>0</td><td>4</td><td>-0.0695306229039703</td><td>1.7574273367797488</td></tr>\n",
       "<tr><td>6049.232830696034</td><td>0.11020015904884232</td><td>333.3034477509446</td><td>1.1668591229756793</td><td>0.11020015904884232</td><td>333.3034477509446</td><td>1.1668591229756793</td><td>0</td><td>5</td><td>-1.697606182580424</td><td>-2.331606630089706</td></tr>\n",
       "<tr><td>16524.974178238102</td><td>0.24178172920196395</td><td>337.14489532661173</td><td>3.7482685408348533</td><td>0.24178172920196395</td><td>337.14489532661173</td><td>3.7482685408348533</td><td>0</td><td>6</td><td>2.1403255422107614</td><td>0.25071398786307153</td></tr>\n",
       "<tr><td>...</td><td>...</td><td>...</td><td>...</td><td>...</td><td>...</td><td>...</td><td>...</td><td>...</td><td>...</td><td>...</td></tr>\n",
       "<tr><td>1851.609677715516</td><td>0.0752266869562428</td><td>334.9904465603179</td><td>2.992352509257742</td><td>0.07410118090458105</td><td>335.0887265033323</td><td>2.8597532300399724</td><td>1</td><td>993473</td><td>0.08862154047522428</td><td>-0.6402425809130963</td></tr>\n",
       "<tr><td>14966.008301172478</td><td>0.11075729706574902</td><td>335.0003230600886</td><td>2.9927470334113297</td><td>0.10103617473180027</td><td>334.9635769985514</td><td>2.9929118775020047</td><td>1</td><td>993474</td><td>-0.036374745110540854</td><td>-0.5070874166709002</td></tr>\n",
       "<tr><td>5845.3555480522755</td><td>2.61097540417228</td><td>334.99436637170993</td><td>2.994618894439429</td><td>2.623502149988169</td><td>334.9941896582236</td><td>2.9732018854559517</td><td>1</td><td>993475</td><td>-0.005802765768095571</td><td>-0.526798096581855</td></tr>\n",
       "<tr><td>397.3714705095043</td><td>0.23296062731279377</td><td>334.99098768314184</td><td>3.0057667330453577</td><td>0.2656979938884113</td><td>334.98420560195</td><td>3.0827661205285968</td><td>1</td><td>993476</td><td>-0.01577196002426799</td><td>-0.41723374675903735</td></tr>\n",
       "<tr><td>872.9985260033814</td><td>12.732875415618784</td><td>334.9983049560609</td><td>2.9911203946522233</td><td>12.789913977884703</td><td>334.9592840666428</td><td>2.9767956095555097</td><td>1</td><td>993477</td><td>-0.04066268859367049</td><td>-0.523203508414976</td></tr>\n",
       "<tr><td>11389.452743511112</td><td>1.0509427265849525</td><td>334.9905373639906</td><td>3.0051379553442072</td><td>1.103925868599708</td><td>334.8892838728686</td><td>2.9108841276357422</td><td>1</td><td>993478</td><td>-0.11057911809757552</td><td>-0.5891093499778521</td></tr>\n",
       "<tr><td>4312.150432095363</td><td>3.2099240670434894</td><td>335.0086019499242</td><td>3.0016887928719824</td><td>3.4802510895080174</td><td>334.9503464397162</td><td>2.9477793555347116</td><td>1</td><td>993479</td><td>-0.04959016292114431</td><td>-0.5522193326624917</td></tr>\n",
       "<tr><td>11363.325178514651</td><td>0.3547338264904756</td><td>334.9932079251497</td><td>2.9984956235215114</td><td>0.3252499087509527</td><td>334.8893116574535</td><td>3.019621993391513</td><td>1</td><td>993480</td><td>-0.11053854243350801</td><td>-0.48037148825160497</td></tr>\n",
       "</table></div>"
      ],
      "text/plain": [
       "<Table length=993424>\n",
       "       TIME            ENERGY_TRUE          RA_TRUE       ...          DETX                 DETY        \n",
       "        s                  TeV                deg         ...          deg                  deg         \n",
       "     float64             float64            float64       ...        float64              float64       \n",
       "------------------ ------------------- ------------------ ... --------------------- --------------------\n",
       "11635.216790040646  0.2910150134596684   335.414489366573 ...    0.4130661510509702   1.4717922613161656\n",
       "1038.7556605764557 0.24628391629979357  336.1582949421765 ...     1.157628374724823  -1.2098727888040164\n",
       " 7912.507241349966  0.1852079006986066 336.29046318281667 ...    1.2857827356594884   1.6537211359304604\n",
       "13562.247637785154 0.06284992505564654 333.18584469874173 ...   -1.8137982315771475    -1.56452239462563\n",
       " 6168.931014762774 0.11372414612703906  334.9302084738923 ...   -0.0695306229039703   1.7574273367797488\n",
       " 6049.232830696034 0.11020015904884232  333.3034477509446 ...    -1.697606182580424   -2.331606630089706\n",
       "16524.974178238102 0.24178172920196395 337.14489532661173 ...    2.1403255422107614  0.25071398786307153\n",
       "               ...                 ...                ... ...                   ...                  ...\n",
       " 1851.609677715516  0.0752266869562428  334.9904465603179 ...   0.08862154047522428  -0.6402425809130963\n",
       "14966.008301172478 0.11075729706574902  335.0003230600886 ... -0.036374745110540854  -0.5070874166709002\n",
       "5845.3555480522755    2.61097540417228 334.99436637170993 ... -0.005802765768095571   -0.526798096581855\n",
       " 397.3714705095043 0.23296062731279377 334.99098768314184 ...  -0.01577196002426799 -0.41723374675903735\n",
       " 872.9985260033814  12.732875415618784  334.9983049560609 ...  -0.04066268859367049   -0.523203508414976\n",
       "11389.452743511112  1.0509427265849525  334.9905373639906 ...  -0.11057911809757552  -0.5891093499778521\n",
       " 4312.150432095363  3.2099240670434894  335.0086019499242 ...  -0.04959016292114431  -0.5522193326624917\n",
       "11363.325178514651  0.3547338264904756  334.9932079251497 ...  -0.11053854243350801 -0.48037148825160497"
      ]
     },
     "execution_count": 16,
     "metadata": {},
     "output_type": "execute_result"
    }
   ],
   "source": [
    "events.table"
   ]
  },
  {
   "cell_type": "code",
   "execution_count": 17,
   "id": "42b9dee0-4990-4b11-a5a2-007f72db357f",
   "metadata": {},
   "outputs": [
    {
     "data": {
      "text/plain": [
       "8399"
      ]
     },
     "execution_count": 17,
     "metadata": {},
     "output_type": "execute_result"
    }
   ],
   "source": [
    "# the number of source events is:\n",
    "len(events.table[events.table[\"MC_ID\"] == 1])"
   ]
  },
  {
   "cell_type": "code",
   "execution_count": 18,
   "id": "3808a535-6c77-4fba-8226-78f47c3e6e5d",
   "metadata": {},
   "outputs": [
    {
     "data": {
      "text/plain": [
       "985025"
      ]
     },
     "execution_count": 18,
     "metadata": {},
     "output_type": "execute_result"
    }
   ],
   "source": [
    "# the number of background events is:\n",
    "len(events.table[events.table[\"MC_ID\"] == 0])"
   ]
  },
  {
   "cell_type": "markdown",
   "id": "b8610b07-48a6-447a-8177-00e72b8663d0",
   "metadata": {},
   "source": [
    "Events can be inspected with a quick look using the function `peek`:"
   ]
  },
  {
   "cell_type": "code",
   "execution_count": 19,
   "id": "f308338f-b6c0-4785-a290-736cb2eed284",
   "metadata": {},
   "outputs": [
    {
     "data": {
      "image/png": "[encoded data removed]",
      "text/plain": [
       "<Figure size 1200x800 with 5 Axes>"
      ]
     },
     "metadata": {},
     "output_type": "display_data"
    }
   ],
   "source": [
    "events.peek()"
   ]
  },
  {
   "cell_type": "markdown",
   "id": "add22c19-8251-4cd3-a9e8-cca2a7a09f1a",
   "metadata": {},
   "source": [
    "Now that we have generated the sampled events, we can proceed to fit them for example. However, before doing that, we need to fill the `dataset` with them:"
   ]
  },
  {
   "cell_type": "code",
   "execution_count": 20,
   "id": "c7bc495d-3c6f-4952-bc79-571b011b4e58",
   "metadata": {},
   "outputs": [],
   "source": [
    "counts = Map.from_geom(geom)\n",
    "counts.fill_events(events)\n",
    "dataset.counts = counts"
   ]
  },
  {
   "cell_type": "code",
   "execution_count": null,
   "id": "5ef834dd-76f2-4c2f-a5ea-4555850512f2",
   "metadata": {},
   "outputs": [],
   "source": []
  },
  {
   "cell_type": "code",
   "execution_count": 21,
   "id": "2718bf99-dd07-44ac-9b5d-e84f2fd471b2",
   "metadata": {},
   "outputs": [],
   "source": [
    "dataset.fake()"
   ]
  },
  {
   "cell_type": "code",
   "execution_count": 22,
   "id": "3553af33-54b0-41a8-8e59-2f56a8e5dc85",
   "metadata": {},
   "outputs": [
    {
     "name": "stdout",
     "output_type": "stream",
     "text": [
      "MapDataset\n",
      "----------\n",
      "\n",
      "  Name                            : my-dataset \n",
      "\n",
      "  Total counts                    : 992086 \n",
      "  Total background counts         : 984886.63\n",
      "  Total excess counts             : 7199.37\n",
      "\n",
      "  Predicted counts                : 993262.64\n",
      "  Predicted background counts     : 984886.63\n",
      "  Predicted excess counts         : 8376.01\n",
      "\n",
      "  Exposure min                    : 3.38e+01 m2 s\n",
      "  Exposure max                    : 7.49e+10 m2 s\n",
      "\n",
      "  Number of total bins            : 4500000 \n",
      "  Number of fit bins              : 4500000 \n",
      "\n",
      "  Fit statistic type              : cash\n",
      "  Fit statistic value (-2 log(L)) : 2195326.27\n",
      "\n",
      "  Number of models                : 2 \n",
      "  Number of parameters            : 8\n",
      "  Number of free parameters       : 5\n",
      "\n",
      "  Component 0: SkyModel\n",
      "  \n",
      "    Name                      : fake_src\n",
      "    Datasets names            : None\n",
      "    Spectral model type       : PowerLawSpectralModel\n",
      "    Spatial  model type       : PointSpatialModel\n",
      "    Temporal model type       : ConstantTemporalModel\n",
      "    Parameters:\n",
      "      index                         :      2.000   +/-    0.00             \n",
      "      amplitude                     :   1.00e-11   +/- 0.0e+00 1 / (TeV s cm2)\n",
      "      reference             (frozen):      1.000       TeV         \n",
      "      lon_0                         :    335.000   +/-    0.00 deg         \n",
      "      lat_0                         :      3.000   +/-    0.00 deg         \n",
      "  \n",
      "  Component 1: FoVBackgroundModel\n",
      "  \n",
      "    Name                      : my-dataset-bkg\n",
      "    Datasets names            : ['my-dataset']\n",
      "    Spectral model type       : PowerLawNormSpectralModel\n",
      "    Parameters:\n",
      "      norm                          :      1.000   +/-    0.00             \n",
      "      tilt                  (frozen):      0.000                   \n",
      "      reference             (frozen):      1.000       TeV         \n",
      "  \n",
      "  \n"
     ]
    }
   ],
   "source": [
    "print(dataset)"
   ]
  },
  {
   "cell_type": "markdown",
   "id": "fa85a8d3-862a-41de-9e93-c89941accb38",
   "metadata": {},
   "source": [
    "## Open problems: \n",
    "\n",
    "2a) Simulate a source with an extended morphology (for example, a Gaussian spatial extensions with size 0.5°) and a powerlaw spectral shape ($\\Gamma=2$, amplitude=$10^{-13}$ cm$^{-2}$ s$^{-1}$ TeV$^{-1}$ at 1 TeV). Determine then minimum exposure time needed to constrain the extension of the source to better than 10%; for simplicity, consider a FoV dimension of $2.5°\\times2.5°$ and fix the source coordinates when fitting the model to the sampled data.\n",
    " \n",
    "2b) Consider the extended Galactic source RX J1713-3946, located at 1 kpc from us. Its coordinates are l, b = 347.313895°, -0.459872° and its spectrum can be modeled with a powerlaw of $\\Gamma=2.06$ and amplitude of $2.3\\times10^{-11}$ cm$^{-2}$ s$^{-1}$ TeV$^{-1}$ at 1 TeV.\n",
    "Simulate it and fit the sampled events to estimate the constraints on the size of its morpholgy. Then, move the source to larger distances, rescaling the powerlaw amplitude and the source size accordingly, and estimate its morphology. Calculate how the constraints on the size change with the distance. For simplicity, consider an exposure time of 10 hours and fix the source coordinates when fitting the model."
   ]
  },
  {
   "cell_type": "code",
   "execution_count": null,
   "id": "720e7952-3f04-493c-8acb-d1b8e01f81f0",
   "metadata": {},
   "outputs": [],
   "source": []
  }
 ],
 "metadata": {
  "kernelspec": {
   "display_name": "Python 3 (ipykernel)",
   "language": "python",
   "name": "python3"
  },
  "language_info": {
   "codemirror_mode": {
    "name": "ipython",
    "version": 3
   },
   "file_extension": ".py",
   "mimetype": "text/x-python",
   "name": "python",
   "nbconvert_exporter": "python",
   "pygments_lexer": "ipython3",
   "version": "3.10.13"
  }
 },
 "nbformat": 4,
 "nbformat_minor": 5
}
